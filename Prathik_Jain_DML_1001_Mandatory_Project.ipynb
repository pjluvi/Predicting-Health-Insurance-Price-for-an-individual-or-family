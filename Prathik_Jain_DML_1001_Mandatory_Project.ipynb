{
 "cells": [
  {
   "cell_type": "markdown",
   "id": "9fd405c3",
   "metadata": {},
   "source": [
    "Name : Prathik Jain G N                                                                                 \n",
    "Mandatory Project : DML 1001\n",
    "\n",
    "Dataset : Health_insurance_cost.xlsx\n",
    "\n",
    "### Predicting Health Insurance Price for an individual or family\n",
    "\n",
    "The majority of the countries finalize health insurance costs based on many factors such as age, number of people in families, etc. What should be the actual health insurance price for an individual or a family is an issue for many companies. Hence, one insurance company hired you as a data scientist to predict the health insurance cost for possible future customers. They have already collected samples required to perform all data analysis and machine learning tasks. Your task is to perform all data analysis steps and finally create a machine learning model which can predict the health insurance cost.\n",
    "\n",
    "\n",
    "Please address certain questions as you work on this project.\n",
    "\n",
    "\n",
    "1. Why is this proposal important in today’s world? How predicting a health insurance cost accurately can affect the health care/insurance field?    \n",
    "\n",
    "\n",
    "2. If any, what is the gap in the knowledge, or how your proposed method can be helpful if required in the future for any other type of insurance?\n",
    "\n",
    "\n",
    "3. Please aim to identify patterns in the data and important features that may impact an ML model.\n",
    "\n",
    "\n",
    "4. Please perform multiple machine learning models, perform all required steps to check if there are any assumptions, and justify your model. Why is your model better than any other possible model? Please explain it by relevant cost functions and, if possible, by any graph.\n",
    "\n",
    "\n",
    "#### Data analysis approach\n",
    "\n",
    "What approach are you going to take to prove or disprove your hypothesis?\n",
    "\n",
    "What feature engineering techniques will be relevant to your project?\n",
    "\n",
    "Please justify your data analysis approach.\n",
    "\n",
    "Identify essential patterns in your data using the EDA approach to justify your findings.\n",
    "\n",
    "\n",
    "#### Machine learning approach\n",
    "\n",
    "What method will you use for machine learning-based predictions of health insurance price?\n",
    "\n",
    "Please justify the most appropriate model.\n",
    "\n",
    "Please perform the necessary steps required to improve the accuracy of your model.\n",
    "\n",
    "Please compare all models (at least four models). "
   ]
  },
  {
   "cell_type": "markdown",
   "id": "f634d1f9",
   "metadata": {},
   "source": [
    "## Dataset description:\n",
    "\n",
    "#### Variables in the dataset:\n",
    "\n",
    "**age**: age of the primary beneficiary\n",
    "\n",
    "**gender**: insurance contractor gender, female, male\n",
    "\n",
    "**BMI**: Body Mass Index, providing an understanding of body weights that are relatively high or low relative to height, objective index of body weight (kg/m²) using the ratio of height to weight, ideally 18.5 to 24.9\n",
    "\n",
    "**Children**: number of children covered by health insurance, number of dependents\n",
    "\n",
    "**smoking_status**: smoking or not\n",
    "\n",
    "**location**: tsmoking_statushe beneficiary’s residential area in the US, northeast, southeast, southwest, northwest.\n",
    "\n",
    "**health_insurance_price**: individual medical costs billed by health insurance\n",
    "\n"
   ]
  },
  {
   "cell_type": "markdown",
   "id": "1be02c38",
   "metadata": {},
   "source": [
    "### Target variable :\n",
    "\n",
    "**health_insurance_price**: individual medical costs billed by health insurance"
   ]
  },
  {
   "cell_type": "markdown",
   "id": "64bc42f3",
   "metadata": {},
   "source": [
    "## 1. Data Exploration"
   ]
  },
  {
   "cell_type": "code",
   "execution_count": 413,
   "id": "c20aed0e",
   "metadata": {},
   "outputs": [],
   "source": [
    "# Importing libraries\n",
    "import numpy as np\n",
    "import pandas as pd\n",
    "import seaborn as sns\n",
    "import matplotlib.pyplot as plt\n",
    "import plotly.express as px\n",
    "from scipy import stats"
   ]
  },
  {
   "cell_type": "code",
   "execution_count": 414,
   "id": "3bccb5fd",
   "metadata": {},
   "outputs": [],
   "source": [
    "# To import dataset\n",
    "health_insurance_raw = pd.read_excel('Health_insurance_cost.xlsx')# reading dataset\n",
    "health_insurance = health_insurance_raw.copy() #creating a copy of dataset"
   ]
  },
  {
   "cell_type": "code",
   "execution_count": 415,
   "id": "668ca6c1",
   "metadata": {},
   "outputs": [
    {
     "data": {
      "text/html": [
       "<div>\n",
       "<style scoped>\n",
       "    .dataframe tbody tr th:only-of-type {\n",
       "        vertical-align: middle;\n",
       "    }\n",
       "\n",
       "    .dataframe tbody tr th {\n",
       "        vertical-align: top;\n",
       "    }\n",
       "\n",
       "    .dataframe thead th {\n",
       "        text-align: right;\n",
       "    }\n",
       "</style>\n",
       "<table border=\"1\" class=\"dataframe\">\n",
       "  <thead>\n",
       "    <tr style=\"text-align: right;\">\n",
       "      <th></th>\n",
       "      <th>age</th>\n",
       "      <th>gender</th>\n",
       "      <th>BMI</th>\n",
       "      <th>Children</th>\n",
       "      <th>smoking_status</th>\n",
       "      <th>location</th>\n",
       "      <th>health_insurance_price</th>\n",
       "    </tr>\n",
       "  </thead>\n",
       "  <tbody>\n",
       "    <tr>\n",
       "      <th>0</th>\n",
       "      <td>19.0</td>\n",
       "      <td>female</td>\n",
       "      <td>NaN</td>\n",
       "      <td>0.0</td>\n",
       "      <td>yes</td>\n",
       "      <td>southwest</td>\n",
       "      <td>16884.92400</td>\n",
       "    </tr>\n",
       "    <tr>\n",
       "      <th>1</th>\n",
       "      <td>18.0</td>\n",
       "      <td>male</td>\n",
       "      <td>33.770</td>\n",
       "      <td>1.0</td>\n",
       "      <td>no</td>\n",
       "      <td>southeast</td>\n",
       "      <td>1725.55230</td>\n",
       "    </tr>\n",
       "    <tr>\n",
       "      <th>2</th>\n",
       "      <td>28.0</td>\n",
       "      <td>male</td>\n",
       "      <td>33.000</td>\n",
       "      <td>3.0</td>\n",
       "      <td>no</td>\n",
       "      <td>southeast</td>\n",
       "      <td>4449.46200</td>\n",
       "    </tr>\n",
       "    <tr>\n",
       "      <th>3</th>\n",
       "      <td>33.0</td>\n",
       "      <td>male</td>\n",
       "      <td>22.705</td>\n",
       "      <td>0.0</td>\n",
       "      <td>no</td>\n",
       "      <td>northwest</td>\n",
       "      <td>21984.47061</td>\n",
       "    </tr>\n",
       "    <tr>\n",
       "      <th>4</th>\n",
       "      <td>32.0</td>\n",
       "      <td>male</td>\n",
       "      <td>28.880</td>\n",
       "      <td>0.0</td>\n",
       "      <td>no</td>\n",
       "      <td>northwest</td>\n",
       "      <td>3866.85520</td>\n",
       "    </tr>\n",
       "  </tbody>\n",
       "</table>\n",
       "</div>"
      ],
      "text/plain": [
       "    age  gender     BMI  Children smoking_status   location  \\\n",
       "0  19.0  female     NaN       0.0            yes  southwest   \n",
       "1  18.0    male  33.770       1.0             no  southeast   \n",
       "2  28.0    male  33.000       3.0             no  southeast   \n",
       "3  33.0    male  22.705       0.0             no  northwest   \n",
       "4  32.0    male  28.880       0.0             no  northwest   \n",
       "\n",
       "   health_insurance_price  \n",
       "0             16884.92400  \n",
       "1              1725.55230  \n",
       "2              4449.46200  \n",
       "3             21984.47061  \n",
       "4              3866.85520  "
      ]
     },
     "execution_count": 415,
     "metadata": {},
     "output_type": "execute_result"
    }
   ],
   "source": [
    "#Initial five rows\n",
    "health_insurance.head()"
   ]
  },
  {
   "cell_type": "code",
   "execution_count": 416,
   "id": "e165fb70",
   "metadata": {},
   "outputs": [
    {
     "data": {
      "text/html": [
       "<div>\n",
       "<style scoped>\n",
       "    .dataframe tbody tr th:only-of-type {\n",
       "        vertical-align: middle;\n",
       "    }\n",
       "\n",
       "    .dataframe tbody tr th {\n",
       "        vertical-align: top;\n",
       "    }\n",
       "\n",
       "    .dataframe thead th {\n",
       "        text-align: right;\n",
       "    }\n",
       "</style>\n",
       "<table border=\"1\" class=\"dataframe\">\n",
       "  <thead>\n",
       "    <tr style=\"text-align: right;\">\n",
       "      <th></th>\n",
       "      <th>age</th>\n",
       "      <th>gender</th>\n",
       "      <th>BMI</th>\n",
       "      <th>Children</th>\n",
       "      <th>smoking_status</th>\n",
       "      <th>location</th>\n",
       "      <th>health_insurance_price</th>\n",
       "    </tr>\n",
       "  </thead>\n",
       "  <tbody>\n",
       "    <tr>\n",
       "      <th>count</th>\n",
       "      <td>1310.000000</td>\n",
       "      <td>1338</td>\n",
       "      <td>1315.000000</td>\n",
       "      <td>1338.000000</td>\n",
       "      <td>1338</td>\n",
       "      <td>1338</td>\n",
       "      <td>1336.000000</td>\n",
       "    </tr>\n",
       "    <tr>\n",
       "      <th>unique</th>\n",
       "      <td>NaN</td>\n",
       "      <td>2</td>\n",
       "      <td>NaN</td>\n",
       "      <td>NaN</td>\n",
       "      <td>2</td>\n",
       "      <td>4</td>\n",
       "      <td>NaN</td>\n",
       "    </tr>\n",
       "    <tr>\n",
       "      <th>top</th>\n",
       "      <td>NaN</td>\n",
       "      <td>male</td>\n",
       "      <td>NaN</td>\n",
       "      <td>NaN</td>\n",
       "      <td>no</td>\n",
       "      <td>southeast</td>\n",
       "      <td>NaN</td>\n",
       "    </tr>\n",
       "    <tr>\n",
       "      <th>freq</th>\n",
       "      <td>NaN</td>\n",
       "      <td>676</td>\n",
       "      <td>NaN</td>\n",
       "      <td>NaN</td>\n",
       "      <td>1064</td>\n",
       "      <td>364</td>\n",
       "      <td>NaN</td>\n",
       "    </tr>\n",
       "    <tr>\n",
       "      <th>mean</th>\n",
       "      <td>39.166412</td>\n",
       "      <td>NaN</td>\n",
       "      <td>30.638217</td>\n",
       "      <td>1.094918</td>\n",
       "      <td>NaN</td>\n",
       "      <td>NaN</td>\n",
       "      <td>13268.527719</td>\n",
       "    </tr>\n",
       "    <tr>\n",
       "      <th>std</th>\n",
       "      <td>14.055378</td>\n",
       "      <td>NaN</td>\n",
       "      <td>6.110302</td>\n",
       "      <td>1.205493</td>\n",
       "      <td>NaN</td>\n",
       "      <td>NaN</td>\n",
       "      <td>12112.797724</td>\n",
       "    </tr>\n",
       "    <tr>\n",
       "      <th>min</th>\n",
       "      <td>18.000000</td>\n",
       "      <td>NaN</td>\n",
       "      <td>15.960000</td>\n",
       "      <td>0.000000</td>\n",
       "      <td>NaN</td>\n",
       "      <td>NaN</td>\n",
       "      <td>1121.873900</td>\n",
       "    </tr>\n",
       "    <tr>\n",
       "      <th>25%</th>\n",
       "      <td>26.000000</td>\n",
       "      <td>NaN</td>\n",
       "      <td>26.210000</td>\n",
       "      <td>0.000000</td>\n",
       "      <td>NaN</td>\n",
       "      <td>NaN</td>\n",
       "      <td>4744.325050</td>\n",
       "    </tr>\n",
       "    <tr>\n",
       "      <th>50%</th>\n",
       "      <td>39.000000</td>\n",
       "      <td>NaN</td>\n",
       "      <td>30.305000</td>\n",
       "      <td>1.000000</td>\n",
       "      <td>NaN</td>\n",
       "      <td>NaN</td>\n",
       "      <td>9382.033000</td>\n",
       "    </tr>\n",
       "    <tr>\n",
       "      <th>75%</th>\n",
       "      <td>51.000000</td>\n",
       "      <td>NaN</td>\n",
       "      <td>34.580000</td>\n",
       "      <td>2.000000</td>\n",
       "      <td>NaN</td>\n",
       "      <td>NaN</td>\n",
       "      <td>16604.302645</td>\n",
       "    </tr>\n",
       "    <tr>\n",
       "      <th>max</th>\n",
       "      <td>64.000000</td>\n",
       "      <td>NaN</td>\n",
       "      <td>53.130000</td>\n",
       "      <td>5.000000</td>\n",
       "      <td>NaN</td>\n",
       "      <td>NaN</td>\n",
       "      <td>63770.428010</td>\n",
       "    </tr>\n",
       "  </tbody>\n",
       "</table>\n",
       "</div>"
      ],
      "text/plain": [
       "                age gender          BMI     Children smoking_status  \\\n",
       "count   1310.000000   1338  1315.000000  1338.000000           1338   \n",
       "unique          NaN      2          NaN          NaN              2   \n",
       "top             NaN   male          NaN          NaN             no   \n",
       "freq            NaN    676          NaN          NaN           1064   \n",
       "mean      39.166412    NaN    30.638217     1.094918            NaN   \n",
       "std       14.055378    NaN     6.110302     1.205493            NaN   \n",
       "min       18.000000    NaN    15.960000     0.000000            NaN   \n",
       "25%       26.000000    NaN    26.210000     0.000000            NaN   \n",
       "50%       39.000000    NaN    30.305000     1.000000            NaN   \n",
       "75%       51.000000    NaN    34.580000     2.000000            NaN   \n",
       "max       64.000000    NaN    53.130000     5.000000            NaN   \n",
       "\n",
       "         location  health_insurance_price  \n",
       "count        1338             1336.000000  \n",
       "unique          4                     NaN  \n",
       "top     southeast                     NaN  \n",
       "freq          364                     NaN  \n",
       "mean          NaN            13268.527719  \n",
       "std           NaN            12112.797724  \n",
       "min           NaN             1121.873900  \n",
       "25%           NaN             4744.325050  \n",
       "50%           NaN             9382.033000  \n",
       "75%           NaN            16604.302645  \n",
       "max           NaN            63770.428010  "
      ]
     },
     "execution_count": 416,
     "metadata": {},
     "output_type": "execute_result"
    }
   ],
   "source": [
    "health_insurance.describe(include='all')"
   ]
  },
  {
   "cell_type": "code",
   "execution_count": 417,
   "id": "921e2777",
   "metadata": {},
   "outputs": [
    {
     "data": {
      "text/plain": [
       "age                       28\n",
       "gender                     0\n",
       "BMI                       23\n",
       "Children                   0\n",
       "smoking_status             0\n",
       "location                   0\n",
       "health_insurance_price     2\n",
       "dtype: int64"
      ]
     },
     "execution_count": 417,
     "metadata": {},
     "output_type": "execute_result"
    }
   ],
   "source": [
    "#Checking for empty cells\n",
    "health_insurance.isnull().sum()"
   ]
  },
  {
   "cell_type": "code",
   "execution_count": 418,
   "id": "d76db582",
   "metadata": {
    "scrolled": false
   },
   "outputs": [
    {
     "name": "stdout",
     "output_type": "stream",
     "text": [
      "<class 'pandas.core.frame.DataFrame'>\n",
      "RangeIndex: 1338 entries, 0 to 1337\n",
      "Data columns (total 7 columns):\n",
      " #   Column                  Non-Null Count  Dtype  \n",
      "---  ------                  --------------  -----  \n",
      " 0   age                     1310 non-null   float64\n",
      " 1   gender                  1338 non-null   object \n",
      " 2   BMI                     1315 non-null   float64\n",
      " 3   Children                1338 non-null   float64\n",
      " 4   smoking_status          1338 non-null   object \n",
      " 5   location                1338 non-null   object \n",
      " 6   health_insurance_price  1336 non-null   float64\n",
      "dtypes: float64(4), object(3)\n",
      "memory usage: 73.3+ KB\n"
     ]
    }
   ],
   "source": [
    "#Summary of data\n",
    "\n",
    "health_insurance.info()"
   ]
  },
  {
   "cell_type": "code",
   "execution_count": 419,
   "id": "ec5a4386",
   "metadata": {
    "scrolled": false
   },
   "outputs": [
    {
     "data": {
      "text/plain": [
       "array([19., 18., 28., 33., 32., 31., 46., 37., 60., 25., 62., 23., 56.,\n",
       "       27., 52., 30., 34., 59., nan, 55., 22., 63., 26., 35., 24., 41.,\n",
       "       38., 36., 21., 48., 40., 58., 53., 43., 64., 20., 61., 44., 57.,\n",
       "       29., 45., 54., 49., 47., 51., 42., 50., 39.])"
      ]
     },
     "execution_count": 419,
     "metadata": {},
     "output_type": "execute_result"
    }
   ],
   "source": [
    "# checking for the unique values in health_insurance['age'] column\n",
    "health_insurance['age'].unique()"
   ]
  },
  {
   "cell_type": "code",
   "execution_count": 420,
   "id": "9ab52845",
   "metadata": {
    "scrolled": false
   },
   "outputs": [
    {
     "data": {
      "text/plain": [
       "array([   nan, 33.77 , 33.   , 22.705, 28.88 , 25.74 , 33.44 , 27.74 ,\n",
       "       29.83 , 25.84 , 26.22 , 26.29 , 34.4  , 39.82 , 42.13 , 24.6  ,\n",
       "       30.78 , 23.845, 40.3  , 35.3  , 36.005, 32.4  , 34.1  , 31.92 ,\n",
       "       28.025, 27.72 , 23.085, 32.775, 17.385, 36.3  , 35.6  , 26.315,\n",
       "       28.6  , 28.31 , 36.4  , 20.425, 32.965, 20.8  , 36.67 , 39.9  ,\n",
       "       26.6  , 36.63 , 21.78 , 30.8  , 37.05 , 37.3  , 38.665, 34.77 ,\n",
       "       24.53 , 35.2  , 35.625, 33.63 , 28.   , 34.43 , 28.69 , 36.955,\n",
       "       31.825, 31.68 , 22.88 , 27.36 , 33.66 , 24.7  , 25.935, 22.42 ,\n",
       "       28.9  , 39.1  , 36.19 , 23.98 , 24.75 , 28.5  , 28.1  , 32.01 ,\n",
       "       27.4  , 34.01 , 29.59 , 35.53 , 39.805, 26.885, 38.285, 37.62 ,\n",
       "       41.23 , 34.8  , 22.895, 31.16 , 27.2  , 26.98 , 39.49 , 24.795,\n",
       "       31.3  , 38.28 , 19.95 , 19.3  , 31.6  , 25.46 , 30.115, 29.92 ,\n",
       "       27.5  , 28.4  , 27.94 , 35.09 , 29.7  , 35.72 , 32.205, 28.595,\n",
       "       49.06 , 27.17 , 23.37 , 37.1  , 23.75 , 28.975, 31.35 , 33.915,\n",
       "       28.785, 28.3  , 37.4  , 17.765, 34.7  , 22.04 , 35.9  , 25.555,\n",
       "       28.05 , 25.175, 31.9  , 36.   , 32.49 , 25.3  , 29.735, 38.83 ,\n",
       "       30.495, 37.73 , 37.43 , 24.13 , 37.145, 39.52 , 24.42 , 36.85 ,\n",
       "       39.6  , 29.8  , 29.64 , 28.215, 37.   , 33.155, 18.905, 41.47 ,\n",
       "       30.3  , 15.96 , 33.345, 37.7  , 27.835, 29.2  , 26.41 , 30.69 ,\n",
       "       41.895, 30.9  , 32.2  , 32.11 , 31.57 , 26.2  , 30.59 , 32.8  ,\n",
       "       18.05 , 39.33 , 32.23 , 24.035, 36.08 , 22.3  , 26.4  , 31.8  ,\n",
       "       30.875, 26.73 , 23.1  , 23.21 , 33.7  , 33.25 , 24.64 , 33.88 ,\n",
       "       38.06 , 41.91 , 31.635, 36.195, 27.83 , 17.8  , 24.51 , 22.22 ,\n",
       "       38.39 , 29.07 , 22.135, 26.8  , 30.02 , 35.86 , 20.9  , 34.21 ,\n",
       "       25.365, 40.15 , 24.415, 25.2  , 26.84 , 24.32 , 42.35 , 19.8  ,\n",
       "       32.395, 30.2  , 29.37 , 34.2  , 27.455, 27.55 , 20.615, 24.3  ,\n",
       "       31.79 , 21.56 , 28.12 , 40.565, 27.645, 31.2  , 26.62 , 48.07 ,\n",
       "       36.765, 33.4  , 45.54 , 28.82 , 22.99 , 27.7  , 25.41 , 34.39 ,\n",
       "       22.61 , 37.51 , 38.   , 33.33 , 34.865, 33.06 , 31.4  , 37.335,\n",
       "       25.27 , 40.945, 34.105, 36.48 , 33.8  , 36.7  , 36.385, 34.5  ,\n",
       "       32.3  , 27.6  , 29.26 , 35.75 , 23.18 , 25.6  , 35.245, 43.89 ,\n",
       "       20.79 , 30.5  , 21.7  , 21.89 , 24.985, 32.015, 30.4  , 21.09 ,\n",
       "       22.23 , 32.9  , 24.89 , 31.46 , 17.955, 30.685, 43.34 , 39.05 ,\n",
       "       30.21 , 31.445, 19.855, 31.02 , 38.17 , 20.6  , 47.52 , 20.4  ,\n",
       "       24.31 , 23.6  , 21.12 , 30.03 , 17.48 , 20.235, 17.195, 23.9  ,\n",
       "       35.15 , 35.64 , 22.6  , 39.16 , 27.265, 29.165, 16.815, 33.1  ,\n",
       "       26.9  , 33.11 , 31.73 , 46.75 , 29.45 , 32.68 , 33.5  , 43.01 ,\n",
       "       36.52 , 26.695, 25.65 , 29.6  , 38.6  , 23.4  , 46.53 , 30.14 ,\n",
       "       30.   , 38.095, 28.38 , 28.7  , 33.82 , 24.09 , 32.67 , 25.1  ,\n",
       "       32.56 , 41.325, 39.5  , 34.3  , 31.065, 21.47 , 25.08 , 43.4  ,\n",
       "       25.7  , 27.93 , 39.2  , 26.03 , 30.25 , 28.93 , 35.7  , 31.   ,\n",
       "       44.22 , 26.07 , 25.8  , 39.425, 40.48 , 38.9  , 47.41 , 35.435,\n",
       "       46.7  , 46.2  , 21.4  , 23.8  , 44.77 , 32.12 , 29.1  , 37.29 ,\n",
       "       43.12 , 36.86 , 34.295, 23.465, 45.43 , 23.65 , 20.7  , 28.27 ,\n",
       "       35.91 , 29.   , 19.57 , 31.13 , 21.85 , 40.26 , 33.725, 29.48 ,\n",
       "       32.6  , 37.525, 23.655, 37.8  , 19.   , 21.3  , 33.535, 42.46 ,\n",
       "       38.95 , 36.1  , 29.3  , 39.7  , 38.19 , 42.4  , 34.96 , 35.31 ,\n",
       "       42.68 , 31.54 , 29.81 , 21.375, 40.81 , 17.4  , 20.3  , 18.5  ,\n",
       "       26.125, 41.69 , 24.1  , 36.2  , 40.185, 39.27 , 34.87 , 44.745,\n",
       "       29.545, 23.54 , 40.47 , 40.66 , 36.6  , 35.4  , 27.075, 28.405,\n",
       "       21.755, 40.28 , 30.1  , 32.1  , 23.7  , 29.15 , 27.   , 37.905,\n",
       "       22.77 , 22.8  , 34.58 , 27.1  , 19.475, 26.7  , 34.32 , 24.4  ,\n",
       "       41.14 , 35.97 , 22.515, 41.8  , 26.18 , 42.24 , 26.51 , 35.815,\n",
       "       41.42 , 36.575, 42.94 , 21.01 , 24.225, 17.67 , 31.1  , 32.78 ,\n",
       "       32.45 , 50.38 , 47.6  , 25.4  , 29.9  , 43.7  , 24.86 , 28.8  ,\n",
       "       29.5  , 29.04 , 38.94 , 44.   , 20.045, 40.92 , 35.1  , 29.355,\n",
       "       32.585, 32.34 , 39.8  , 24.605, 33.99 , 28.2  , 25.   , 33.2  ,\n",
       "       23.2  , 20.1  , 32.5  , 37.18 , 46.09 , 39.93 , 35.8  , 31.255,\n",
       "       18.335, 42.9  , 26.79 , 39.615, 25.9  , 25.745, 28.16 , 23.56 ,\n",
       "       40.5  , 35.42 , 39.995, 34.675, 20.52 , 23.275, 36.29 , 32.7  ,\n",
       "       19.19 , 20.13 , 23.32 , 45.32 , 34.6  , 18.715, 17.29 , 21.565,\n",
       "       38.38 , 23.   , 37.07 , 52.58 , 42.655, 21.66 , 32.   , 31.5  ,\n",
       "       18.3  , 47.74 , 22.1  , 19.095, 31.24 , 29.925, 20.35 , 25.85 ,\n",
       "       42.75 , 18.6  , 23.87 , 45.9  , 21.5  , 30.305, 44.88 , 41.1  ,\n",
       "       40.37 , 28.49 , 33.55 , 40.375, 27.28 , 17.86 , 33.3  , 39.14 ,\n",
       "       21.945, 24.97 , 23.94 , 34.485, 21.8  , 23.3  , 36.96 , 21.28 ,\n",
       "       29.4  , 27.3  , 37.9  , 37.715, 23.76 , 25.52 , 27.61 , 27.06 ,\n",
       "       39.4  , 34.9  , 22.   , 30.36 , 27.8  , 53.13 , 39.71 , 32.87 ,\n",
       "       44.7  , 30.97 ])"
      ]
     },
     "execution_count": 420,
     "metadata": {},
     "output_type": "execute_result"
    }
   ],
   "source": [
    "# checking for the unique values in health_insurance['BMI'] column\n",
    "health_insurance['BMI'].unique()"
   ]
  },
  {
   "cell_type": "code",
   "execution_count": 421,
   "id": "b30ee22a",
   "metadata": {},
   "outputs": [],
   "source": [
    "#Type casting\n",
    "\n",
    "health_insurance['gender'] = health_insurance['gender'].astype('category')\n",
    "health_insurance['Children'] = health_insurance['Children'].astype('int64')\n",
    "health_insurance['smoking_status'] = health_insurance['smoking_status'].astype('category')\n",
    "health_insurance['location'] = health_insurance['location'].astype('category')"
   ]
  },
  {
   "cell_type": "code",
   "execution_count": 422,
   "id": "da26537e",
   "metadata": {},
   "outputs": [
    {
     "name": "stdout",
     "output_type": "stream",
     "text": [
      "<class 'pandas.core.frame.DataFrame'>\n",
      "RangeIndex: 1338 entries, 0 to 1337\n",
      "Data columns (total 7 columns):\n",
      " #   Column                  Non-Null Count  Dtype   \n",
      "---  ------                  --------------  -----   \n",
      " 0   age                     1310 non-null   float64 \n",
      " 1   gender                  1338 non-null   category\n",
      " 2   BMI                     1315 non-null   float64 \n",
      " 3   Children                1338 non-null   int64   \n",
      " 4   smoking_status          1338 non-null   category\n",
      " 5   location                1338 non-null   category\n",
      " 6   health_insurance_price  1336 non-null   float64 \n",
      "dtypes: category(3), float64(3), int64(1)\n",
      "memory usage: 46.3 KB\n"
     ]
    }
   ],
   "source": [
    "health_insurance.info()"
   ]
  },
  {
   "cell_type": "code",
   "execution_count": 423,
   "id": "08f16c83",
   "metadata": {},
   "outputs": [
    {
     "data": {
      "text/html": [
       "<div>\n",
       "<style scoped>\n",
       "    .dataframe tbody tr th:only-of-type {\n",
       "        vertical-align: middle;\n",
       "    }\n",
       "\n",
       "    .dataframe tbody tr th {\n",
       "        vertical-align: top;\n",
       "    }\n",
       "\n",
       "    .dataframe thead th {\n",
       "        text-align: right;\n",
       "    }\n",
       "</style>\n",
       "<table border=\"1\" class=\"dataframe\">\n",
       "  <thead>\n",
       "    <tr style=\"text-align: right;\">\n",
       "      <th></th>\n",
       "      <th>age</th>\n",
       "      <th>gender</th>\n",
       "      <th>BMI</th>\n",
       "      <th>Children</th>\n",
       "      <th>smoking_status</th>\n",
       "      <th>location</th>\n",
       "      <th>health_insurance_price</th>\n",
       "    </tr>\n",
       "  </thead>\n",
       "  <tbody>\n",
       "    <tr>\n",
       "      <th>0</th>\n",
       "      <td>19.0</td>\n",
       "      <td>female</td>\n",
       "      <td>NaN</td>\n",
       "      <td>0</td>\n",
       "      <td>yes</td>\n",
       "      <td>southwest</td>\n",
       "      <td>16884.92400</td>\n",
       "    </tr>\n",
       "    <tr>\n",
       "      <th>1</th>\n",
       "      <td>18.0</td>\n",
       "      <td>male</td>\n",
       "      <td>33.770</td>\n",
       "      <td>1</td>\n",
       "      <td>no</td>\n",
       "      <td>southeast</td>\n",
       "      <td>1725.55230</td>\n",
       "    </tr>\n",
       "    <tr>\n",
       "      <th>2</th>\n",
       "      <td>28.0</td>\n",
       "      <td>male</td>\n",
       "      <td>33.000</td>\n",
       "      <td>3</td>\n",
       "      <td>no</td>\n",
       "      <td>southeast</td>\n",
       "      <td>4449.46200</td>\n",
       "    </tr>\n",
       "    <tr>\n",
       "      <th>3</th>\n",
       "      <td>33.0</td>\n",
       "      <td>male</td>\n",
       "      <td>22.705</td>\n",
       "      <td>0</td>\n",
       "      <td>no</td>\n",
       "      <td>northwest</td>\n",
       "      <td>21984.47061</td>\n",
       "    </tr>\n",
       "    <tr>\n",
       "      <th>4</th>\n",
       "      <td>32.0</td>\n",
       "      <td>male</td>\n",
       "      <td>28.880</td>\n",
       "      <td>0</td>\n",
       "      <td>no</td>\n",
       "      <td>northwest</td>\n",
       "      <td>3866.85520</td>\n",
       "    </tr>\n",
       "    <tr>\n",
       "      <th>...</th>\n",
       "      <td>...</td>\n",
       "      <td>...</td>\n",
       "      <td>...</td>\n",
       "      <td>...</td>\n",
       "      <td>...</td>\n",
       "      <td>...</td>\n",
       "      <td>...</td>\n",
       "    </tr>\n",
       "    <tr>\n",
       "      <th>1333</th>\n",
       "      <td>50.0</td>\n",
       "      <td>male</td>\n",
       "      <td>30.970</td>\n",
       "      <td>3</td>\n",
       "      <td>no</td>\n",
       "      <td>northwest</td>\n",
       "      <td>10600.54830</td>\n",
       "    </tr>\n",
       "    <tr>\n",
       "      <th>1334</th>\n",
       "      <td>18.0</td>\n",
       "      <td>female</td>\n",
       "      <td>31.920</td>\n",
       "      <td>0</td>\n",
       "      <td>no</td>\n",
       "      <td>northeast</td>\n",
       "      <td>2205.98080</td>\n",
       "    </tr>\n",
       "    <tr>\n",
       "      <th>1335</th>\n",
       "      <td>18.0</td>\n",
       "      <td>female</td>\n",
       "      <td>36.850</td>\n",
       "      <td>0</td>\n",
       "      <td>no</td>\n",
       "      <td>southeast</td>\n",
       "      <td>1629.83350</td>\n",
       "    </tr>\n",
       "    <tr>\n",
       "      <th>1336</th>\n",
       "      <td>21.0</td>\n",
       "      <td>female</td>\n",
       "      <td>25.800</td>\n",
       "      <td>0</td>\n",
       "      <td>no</td>\n",
       "      <td>southwest</td>\n",
       "      <td>2007.94500</td>\n",
       "    </tr>\n",
       "    <tr>\n",
       "      <th>1337</th>\n",
       "      <td>61.0</td>\n",
       "      <td>female</td>\n",
       "      <td>29.070</td>\n",
       "      <td>0</td>\n",
       "      <td>yes</td>\n",
       "      <td>northwest</td>\n",
       "      <td>29141.36030</td>\n",
       "    </tr>\n",
       "  </tbody>\n",
       "</table>\n",
       "<p>1337 rows × 7 columns</p>\n",
       "</div>"
      ],
      "text/plain": [
       "       age  gender     BMI  Children smoking_status   location  \\\n",
       "0     19.0  female     NaN         0            yes  southwest   \n",
       "1     18.0    male  33.770         1             no  southeast   \n",
       "2     28.0    male  33.000         3             no  southeast   \n",
       "3     33.0    male  22.705         0             no  northwest   \n",
       "4     32.0    male  28.880         0             no  northwest   \n",
       "...    ...     ...     ...       ...            ...        ...   \n",
       "1333  50.0    male  30.970         3             no  northwest   \n",
       "1334  18.0  female  31.920         0             no  northeast   \n",
       "1335  18.0  female  36.850         0             no  southeast   \n",
       "1336  21.0  female  25.800         0             no  southwest   \n",
       "1337  61.0  female  29.070         0            yes  northwest   \n",
       "\n",
       "      health_insurance_price  \n",
       "0                16884.92400  \n",
       "1                 1725.55230  \n",
       "2                 4449.46200  \n",
       "3                21984.47061  \n",
       "4                 3866.85520  \n",
       "...                      ...  \n",
       "1333             10600.54830  \n",
       "1334              2205.98080  \n",
       "1335              1629.83350  \n",
       "1336              2007.94500  \n",
       "1337             29141.36030  \n",
       "\n",
       "[1337 rows x 7 columns]"
      ]
     },
     "execution_count": 423,
     "metadata": {},
     "output_type": "execute_result"
    }
   ],
   "source": [
    "#Drop Duplicates\n",
    "\n",
    "health_insurance.drop_duplicates()"
   ]
  },
  {
   "cell_type": "code",
   "execution_count": 424,
   "id": "097cf9be",
   "metadata": {},
   "outputs": [
    {
     "data": {
      "image/png": "[encoded data removed]",
      "text/plain": [
       "<Figure size 1440x1080 with 5 Axes>"
      ]
     },
     "metadata": {
      "needs_background": "light"
     },
     "output_type": "display_data"
    }
   ],
   "source": [
    "plt.figure(figsize=[20,15])\n",
    "ax1 = plt.subplot(3,2,1)\n",
    "ax2 = plt.subplot(3,2,2)\n",
    "ax3 = plt.subplot(3,2,3)\n",
    "ax4 = plt.subplot(3,2,4)\n",
    "ax5 = plt.subplot(3,2,5)\n",
    "\n",
    "sns.histplot(data= health_insurance, x='age', kde=True, ax=ax1,hue = 'smoking_status')\n",
    "sns.histplot(data= health_insurance, x='BMI', kde=True, ax=ax2,hue = 'smoking_status')\n",
    "sns.histplot(data= health_insurance, x='health_insurance_price', kde=True, ax=ax3,hue = 'smoking_status')\n",
    "sns.histplot(data= health_insurance, x='health_insurance_price', kde=True, ax=ax4,hue = 'gender')\n",
    "sns.histplot(data= health_insurance, x='health_insurance_price', kde=True, ax=ax5,hue = 'location')\n",
    "plt.show()"
   ]
  },
  {
   "cell_type": "code",
   "execution_count": 425,
   "id": "cf1a6f0f",
   "metadata": {
    "scrolled": true
   },
   "outputs": [
    {
     "data": {
      "image/png": "[encoded data removed]",
      "text/plain": [
       "<Figure size 360x360 with 1 Axes>"
      ]
     },
     "metadata": {
      "needs_background": "light"
     },
     "output_type": "display_data"
    }
   ],
   "source": [
    "plt.figure(figsize=(5,5))\n",
    "sns.countplot(x='gender', data=health_insurance)\n",
    "plt.title('Gender Distribution')\n",
    "plt.show()"
   ]
  },
  {
   "cell_type": "code",
   "execution_count": 426,
   "id": "60a5b11b",
   "metadata": {
    "scrolled": true
   },
   "outputs": [
    {
     "data": {
      "image/png": "[encoded data removed]",
      "text/plain": [
       "<Figure size 360x360 with 1 Axes>"
      ]
     },
     "metadata": {
      "needs_background": "light"
     },
     "output_type": "display_data"
    }
   ],
   "source": [
    "plt.figure(figsize=(5,5))\n",
    "sns.countplot(x='Children', data=health_insurance)\n",
    "plt.title('Number of children covered by health insurance')\n",
    "plt.show()"
   ]
  },
  {
   "cell_type": "code",
   "execution_count": 427,
   "id": "f7c3e147",
   "metadata": {},
   "outputs": [
    {
     "data": {
      "image/png": "[encoded data removed]",
      "text/plain": [
       "<Figure size 360x360 with 1 Axes>"
      ]
     },
     "metadata": {
      "needs_background": "light"
     },
     "output_type": "display_data"
    }
   ],
   "source": [
    "plt.figure(figsize=(5,5))\n",
    "sns.countplot(x='smoking_status', data=health_insurance)\n",
    "plt.title('Smoker')\n",
    "plt.show()"
   ]
  },
  {
   "cell_type": "code",
   "execution_count": 428,
   "id": "6e8eec48",
   "metadata": {},
   "outputs": [
    {
     "data": {
      "image/png": "[encoded data removed]",
      "text/plain": [
       "<Figure size 360x360 with 1 Axes>"
      ]
     },
     "metadata": {
      "needs_background": "light"
     },
     "output_type": "display_data"
    }
   ],
   "source": [
    "plt.figure(figsize=(5,5))\n",
    "sns.countplot(x='location', data=health_insurance)\n",
    "plt.title('Region')\n",
    "plt.show()"
   ]
  },
  {
   "cell_type": "code",
   "execution_count": 429,
   "id": "17334f5b",
   "metadata": {},
   "outputs": [
    {
     "data": {
      "text/plain": [
       "age                       2.092676\n",
       "gender                    0.000000\n",
       "BMI                       1.718984\n",
       "Children                  0.000000\n",
       "smoking_status            0.000000\n",
       "location                  0.000000\n",
       "health_insurance_price    0.149477\n",
       "dtype: float64"
      ]
     },
     "execution_count": 429,
     "metadata": {},
     "output_type": "execute_result"
    }
   ],
   "source": [
    "#percentage of missing value\n",
    "\n",
    "health_insurance.isnull().sum() * 100 / health_insurance.shape[0]"
   ]
  },
  {
   "cell_type": "code",
   "execution_count": 430,
   "id": "58a8d094",
   "metadata": {},
   "outputs": [
    {
     "name": "stderr",
     "output_type": "stream",
     "text": [
      "C:\\Users\\prath\\AppData\\Local\\Temp\\ipykernel_23160\\3460303936.py:1: FutureWarning:\n",
      "\n",
      "Dropping of nuisance columns in DataFrame reductions (with 'numeric_only=None') is deprecated; in a future version this will raise TypeError.  Select only valid columns before calling the reduction.\n",
      "\n"
     ]
    },
    {
     "data": {
      "text/plain": [
       "age                       0.057380\n",
       "BMI                       0.299240\n",
       "Children                  0.938380\n",
       "health_insurance_price    1.517254\n",
       "dtype: float64"
      ]
     },
     "execution_count": 430,
     "metadata": {},
     "output_type": "execute_result"
    }
   ],
   "source": [
    "health_insurance.skew()"
   ]
  },
  {
   "cell_type": "code",
   "execution_count": 431,
   "id": "9d2954a4",
   "metadata": {
    "scrolled": false
   },
   "outputs": [
    {
     "data": {
      "text/plain": [
       "<seaborn.axisgrid.PairGrid at 0x1db6ed3d670>"
      ]
     },
     "execution_count": 431,
     "metadata": {},
     "output_type": "execute_result"
    },
    {
     "data": {
      "image/png": "[encoded data removed]",
      "text/plain": [
       "<Figure size 806x720 with 20 Axes>"
      ]
     },
     "metadata": {
      "needs_background": "light"
     },
     "output_type": "display_data"
    }
   ],
   "source": [
    "sns.pairplot(health_insurance,hue = 'smoking_status',kind = 'reg')"
   ]
  },
  {
   "cell_type": "code",
   "execution_count": 432,
   "id": "6f62a3f7",
   "metadata": {},
   "outputs": [
    {
     "data": {
      "application/vnd.plotly.v1+json": {
       "config": {
        "plotlyServerURL": "https://plot.ly"
       },
       "data": [
        {
         "colorscale": [
          [
           0,
           "#440154"
          ],
          [
           0.1111111111111111,
           "#482878"
          ],
          [
           0.2222222222222222,
           "#3e4989"
          ],
          [
           0.3333333333333333,
           "#31688e"
          ],
          [
           0.4444444444444444,
           "#26828e"
          ],
          [
           0.5555555555555556,
           "#1f9e89"
          ],
          [
           0.6666666666666666,
           "#35b779"
          ],
          [
           0.7777777777777778,
           "#6ece58"
          ],
          [
           0.8888888888888888,
           "#b5de2b"
          ],
          [
           1,
           "#fde725"
          ]
         ],
         "hoverinfo": "z",
         "reversescale": false,
         "showscale": false,
         "type": "heatmap",
         "x": [
          "age",
          "BMI",
          "Children",
          "health_insurance_price"
         ],
         "y": [
          "age",
          "BMI",
          "Children",
          "health_insurance_price"
         ],
         "z": [
          [
           1,
           0.10816802896087263,
           0.05646396187228948,
           0.5339100055678062
          ],
          [
           0.10816802896087263,
           1,
           0.01188142391488292,
           0.11928657146071273
          ],
          [
           0.05646396187228948,
           0.01188142391488292,
           1,
           0.13262124377337325
          ],
          [
           0.5339100055678062,
           0.11928657146071273,
           0.13262124377337325,
           1
          ]
         ]
        }
       ],
       "layout": {
        "annotations": [
         {
          "font": {
           "color": "#000000"
          },
          "showarrow": false,
          "text": "1.0",
          "x": "age",
          "xref": "x",
          "y": "age",
          "yref": "y"
         },
         {
          "font": {
           "color": "#FFFFFF"
          },
          "showarrow": false,
          "text": "0.11",
          "x": "BMI",
          "xref": "x",
          "y": "age",
          "yref": "y"
         },
         {
          "font": {
           "color": "#FFFFFF"
          },
          "showarrow": false,
          "text": "0.06",
          "x": "Children",
          "xref": "x",
          "y": "age",
          "yref": "y"
         },
         {
          "font": {
           "color": "#000000"
          },
          "showarrow": false,
          "text": "0.53",
          "x": "health_insurance_price",
          "xref": "x",
          "y": "age",
          "yref": "y"
         },
         {
          "font": {
           "color": "#FFFFFF"
          },
          "showarrow": false,
          "text": "0.11",
          "x": "age",
          "xref": "x",
          "y": "BMI",
          "yref": "y"
         },
         {
          "font": {
           "color": "#000000"
          },
          "showarrow": false,
          "text": "1.0",
          "x": "BMI",
          "xref": "x",
          "y": "BMI",
          "yref": "y"
         },
         {
          "font": {
           "color": "#FFFFFF"
          },
          "showarrow": false,
          "text": "0.01",
          "x": "Children",
          "xref": "x",
          "y": "BMI",
          "yref": "y"
         },
         {
          "font": {
           "color": "#FFFFFF"
          },
          "showarrow": false,
          "text": "0.12",
          "x": "health_insurance_price",
          "xref": "x",
          "y": "BMI",
          "yref": "y"
         },
         {
          "font": {
           "color": "#FFFFFF"
          },
          "showarrow": false,
          "text": "0.06",
          "x": "age",
          "xref": "x",
          "y": "Children",
          "yref": "y"
         },
         {
          "font": {
           "color": "#FFFFFF"
          },
          "showarrow": false,
          "text": "0.01",
          "x": "BMI",
          "xref": "x",
          "y": "Children",
          "yref": "y"
         },
         {
          "font": {
           "color": "#000000"
          },
          "showarrow": false,
          "text": "1.0",
          "x": "Children",
          "xref": "x",
          "y": "Children",
          "yref": "y"
         },
         {
          "font": {
           "color": "#FFFFFF"
          },
          "showarrow": false,
          "text": "0.13",
          "x": "health_insurance_price",
          "xref": "x",
          "y": "Children",
          "yref": "y"
         },
         {
          "font": {
           "color": "#000000"
          },
          "showarrow": false,
          "text": "0.53",
          "x": "age",
          "xref": "x",
          "y": "health_insurance_price",
          "yref": "y"
         },
         {
          "font": {
           "color": "#FFFFFF"
          },
          "showarrow": false,
          "text": "0.12",
          "x": "BMI",
          "xref": "x",
          "y": "health_insurance_price",
          "yref": "y"
         },
         {
          "font": {
           "color": "#FFFFFF"
          },
          "showarrow": false,
          "text": "0.13",
          "x": "Children",
          "xref": "x",
          "y": "health_insurance_price",
          "yref": "y"
         },
         {
          "font": {
           "color": "#000000"
          },
          "showarrow": false,
          "text": "1.0",
          "x": "health_insurance_price",
          "xref": "x",
          "y": "health_insurance_price",
          "yref": "y"
         }
        ],
        "template": {
         "data": {
          "bar": [
           {
            "error_x": {
             "color": "#2a3f5f"
            },
            "error_y": {
             "color": "#2a3f5f"
            },
            "marker": {
             "line": {
              "color": "#E5ECF6",
              "width": 0.5
             },
             "pattern": {
              "fillmode": "overlay",
              "size": 10,
              "solidity": 0.2
             }
            },
            "type": "bar"
           }
          ],
          "barpolar": [
           {
            "marker": {
             "line": {
              "color": "#E5ECF6",
              "width": 0.5
             },
             "pattern": {
              "fillmode": "overlay",
              "size": 10,
              "solidity": 0.2
             }
            },
            "type": "barpolar"
           }
          ],
          "carpet": [
           {
            "aaxis": {
             "endlinecolor": "#2a3f5f",
             "gridcolor": "white",
             "linecolor": "white",
             "minorgridcolor": "white",
             "startlinecolor": "#2a3f5f"
            },
            "baxis": {
             "endlinecolor": "#2a3f5f",
             "gridcolor": "white",
             "linecolor": "white",
             "minorgridcolor": "white",
             "startlinecolor": "#2a3f5f"
            },
            "type": "carpet"
           }
          ],
          "choropleth": [
           {
            "colorbar": {
             "outlinewidth": 0,
             "ticks": ""
            },
            "type": "choropleth"
           }
          ],
          "contour": [
           {
            "colorbar": {
             "outlinewidth": 0,
             "ticks": ""
            },
            "colorscale": [
             [
              0,
              "#0d0887"
             ],
             [
              0.1111111111111111,
              "#46039f"
             ],
             [
              0.2222222222222222,
              "#7201a8"
             ],
             [
              0.3333333333333333,
              "#9c179e"
             ],
             [
              0.4444444444444444,
              "#bd3786"
             ],
             [
              0.5555555555555556,
              "#d8576b"
             ],
             [
              0.6666666666666666,
              "#ed7953"
             ],
             [
              0.7777777777777778,
              "#fb9f3a"
             ],
             [
              0.8888888888888888,
              "#fdca26"
             ],
             [
              1,
              "#f0f921"
             ]
            ],
            "type": "contour"
           }
          ],
          "contourcarpet": [
           {
            "colorbar": {
             "outlinewidth": 0,
             "ticks": ""
            },
            "type": "contourcarpet"
           }
          ],
          "heatmap": [
           {
            "colorbar": {
             "outlinewidth": 0,
             "ticks": ""
            },
            "colorscale": [
             [
              0,
              "#0d0887"
             ],
             [
              0.1111111111111111,
              "#46039f"
             ],
             [
              0.2222222222222222,
              "#7201a8"
             ],
             [
              0.3333333333333333,
              "#9c179e"
             ],
             [
              0.4444444444444444,
              "#bd3786"
             ],
             [
              0.5555555555555556,
              "#d8576b"
             ],
             [
              0.6666666666666666,
              "#ed7953"
             ],
             [
              0.7777777777777778,
              "#fb9f3a"
             ],
             [
              0.8888888888888888,
              "#fdca26"
             ],
             [
              1,
              "#f0f921"
             ]
            ],
            "type": "heatmap"
           }
          ],
          "heatmapgl": [
           {
            "colorbar": {
             "outlinewidth": 0,
             "ticks": ""
            },
            "colorscale": [
             [
              0,
              "#0d0887"
             ],
             [
              0.1111111111111111,
              "#46039f"
             ],
             [
              0.2222222222222222,
              "#7201a8"
             ],
             [
              0.3333333333333333,
              "#9c179e"
             ],
             [
              0.4444444444444444,
              "#bd3786"
             ],
             [
              0.5555555555555556,
              "#d8576b"
             ],
             [
              0.6666666666666666,
              "#ed7953"
             ],
             [
              0.7777777777777778,
              "#fb9f3a"
             ],
             [
              0.8888888888888888,
              "#fdca26"
             ],
             [
              1,
              "#f0f921"
             ]
            ],
            "type": "heatmapgl"
           }
          ],
          "histogram": [
           {
            "marker": {
             "pattern": {
              "fillmode": "overlay",
              "size": 10,
              "solidity": 0.2
             }
            },
            "type": "histogram"
           }
          ],
          "histogram2d": [
           {
            "colorbar": {
             "outlinewidth": 0,
             "ticks": ""
            },
            "colorscale": [
             [
              0,
              "#0d0887"
             ],
             [
              0.1111111111111111,
              "#46039f"
             ],
             [
              0.2222222222222222,
              "#7201a8"
             ],
             [
              0.3333333333333333,
              "#9c179e"
             ],
             [
              0.4444444444444444,
              "#bd3786"
             ],
             [
              0.5555555555555556,
              "#d8576b"
             ],
             [
              0.6666666666666666,
              "#ed7953"
             ],
             [
              0.7777777777777778,
              "#fb9f3a"
             ],
             [
              0.8888888888888888,
              "#fdca26"
             ],
             [
              1,
              "#f0f921"
             ]
            ],
            "type": "histogram2d"
           }
          ],
          "histogram2dcontour": [
           {
            "colorbar": {
             "outlinewidth": 0,
             "ticks": ""
            },
            "colorscale": [
             [
              0,
              "#0d0887"
             ],
             [
              0.1111111111111111,
              "#46039f"
             ],
             [
              0.2222222222222222,
              "#7201a8"
             ],
             [
              0.3333333333333333,
              "#9c179e"
             ],
             [
              0.4444444444444444,
              "#bd3786"
             ],
             [
              0.5555555555555556,
              "#d8576b"
             ],
             [
              0.6666666666666666,
              "#ed7953"
             ],
             [
              0.7777777777777778,
              "#fb9f3a"
             ],
             [
              0.8888888888888888,
              "#fdca26"
             ],
             [
              1,
              "#f0f921"
             ]
            ],
            "type": "histogram2dcontour"
           }
          ],
          "mesh3d": [
           {
            "colorbar": {
             "outlinewidth": 0,
             "ticks": ""
            },
            "type": "mesh3d"
           }
          ],
          "parcoords": [
           {
            "line": {
             "colorbar": {
              "outlinewidth": 0,
              "ticks": ""
             }
            },
            "type": "parcoords"
           }
          ],
          "pie": [
           {
            "automargin": true,
            "type": "pie"
           }
          ],
          "scatter": [
           {
            "fillpattern": {
             "fillmode": "overlay",
             "size": 10,
             "solidity": 0.2
            },
            "type": "scatter"
           }
          ],
          "scatter3d": [
           {
            "line": {
             "colorbar": {
              "outlinewidth": 0,
              "ticks": ""
             }
            },
            "marker": {
             "colorbar": {
              "outlinewidth": 0,
              "ticks": ""
             }
            },
            "type": "scatter3d"
           }
          ],
          "scattercarpet": [
           {
            "marker": {
             "colorbar": {
              "outlinewidth": 0,
              "ticks": ""
             }
            },
            "type": "scattercarpet"
           }
          ],
          "scattergeo": [
           {
            "marker": {
             "colorbar": {
              "outlinewidth": 0,
              "ticks": ""
             }
            },
            "type": "scattergeo"
           }
          ],
          "scattergl": [
           {
            "marker": {
             "colorbar": {
              "outlinewidth": 0,
              "ticks": ""
             }
            },
            "type": "scattergl"
           }
          ],
          "scattermapbox": [
           {
            "marker": {
             "colorbar": {
              "outlinewidth": 0,
              "ticks": ""
             }
            },
            "type": "scattermapbox"
           }
          ],
          "scatterpolar": [
           {
            "marker": {
             "colorbar": {
              "outlinewidth": 0,
              "ticks": ""
             }
            },
            "type": "scatterpolar"
           }
          ],
          "scatterpolargl": [
           {
            "marker": {
             "colorbar": {
              "outlinewidth": 0,
              "ticks": ""
             }
            },
            "type": "scatterpolargl"
           }
          ],
          "scatterternary": [
           {
            "marker": {
             "colorbar": {
              "outlinewidth": 0,
              "ticks": ""
             }
            },
            "type": "scatterternary"
           }
          ],
          "surface": [
           {
            "colorbar": {
             "outlinewidth": 0,
             "ticks": ""
            },
            "colorscale": [
             [
              0,
              "#0d0887"
             ],
             [
              0.1111111111111111,
              "#46039f"
             ],
             [
              0.2222222222222222,
              "#7201a8"
             ],
             [
              0.3333333333333333,
              "#9c179e"
             ],
             [
              0.4444444444444444,
              "#bd3786"
             ],
             [
              0.5555555555555556,
              "#d8576b"
             ],
             [
              0.6666666666666666,
              "#ed7953"
             ],
             [
              0.7777777777777778,
              "#fb9f3a"
             ],
             [
              0.8888888888888888,
              "#fdca26"
             ],
             [
              1,
              "#f0f921"
             ]
            ],
            "type": "surface"
           }
          ],
          "table": [
           {
            "cells": {
             "fill": {
              "color": "#EBF0F8"
             },
             "line": {
              "color": "white"
             }
            },
            "header": {
             "fill": {
              "color": "#C8D4E3"
             },
             "line": {
              "color": "white"
             }
            },
            "type": "table"
           }
          ]
         },
         "layout": {
          "annotationdefaults": {
           "arrowcolor": "#2a3f5f",
           "arrowhead": 0,
           "arrowwidth": 1
          },
          "autotypenumbers": "strict",
          "coloraxis": {
           "colorbar": {
            "outlinewidth": 0,
            "ticks": ""
           }
          },
          "colorscale": {
           "diverging": [
            [
             0,
             "#8e0152"
            ],
            [
             0.1,
             "#c51b7d"
            ],
            [
             0.2,
             "#de77ae"
            ],
            [
             0.3,
             "#f1b6da"
            ],
            [
             0.4,
             "#fde0ef"
            ],
            [
             0.5,
             "#f7f7f7"
            ],
            [
             0.6,
             "#e6f5d0"
            ],
            [
             0.7,
             "#b8e186"
            ],
            [
             0.8,
             "#7fbc41"
            ],
            [
             0.9,
             "#4d9221"
            ],
            [
             1,
             "#276419"
            ]
           ],
           "sequential": [
            [
             0,
             "#0d0887"
            ],
            [
             0.1111111111111111,
             "#46039f"
            ],
            [
             0.2222222222222222,
             "#7201a8"
            ],
            [
             0.3333333333333333,
             "#9c179e"
            ],
            [
             0.4444444444444444,
             "#bd3786"
            ],
            [
             0.5555555555555556,
             "#d8576b"
            ],
            [
             0.6666666666666666,
             "#ed7953"
            ],
            [
             0.7777777777777778,
             "#fb9f3a"
            ],
            [
             0.8888888888888888,
             "#fdca26"
            ],
            [
             1,
             "#f0f921"
            ]
           ],
           "sequentialminus": [
            [
             0,
             "#0d0887"
            ],
            [
             0.1111111111111111,
             "#46039f"
            ],
            [
             0.2222222222222222,
             "#7201a8"
            ],
            [
             0.3333333333333333,
             "#9c179e"
            ],
            [
             0.4444444444444444,
             "#bd3786"
            ],
            [
             0.5555555555555556,
             "#d8576b"
            ],
            [
             0.6666666666666666,
             "#ed7953"
            ],
            [
             0.7777777777777778,
             "#fb9f3a"
            ],
            [
             0.8888888888888888,
             "#fdca26"
            ],
            [
             1,
             "#f0f921"
            ]
           ]
          },
          "colorway": [
           "#636efa",
           "#EF553B",
           "#00cc96",
           "#ab63fa",
           "#FFA15A",
           "#19d3f3",
           "#FF6692",
           "#B6E880",
           "#FF97FF",
           "#FECB52"
          ],
          "font": {
           "color": "#2a3f5f"
          },
          "geo": {
           "bgcolor": "white",
           "lakecolor": "white",
           "landcolor": "#E5ECF6",
           "showlakes": true,
           "showland": true,
           "subunitcolor": "white"
          },
          "hoverlabel": {
           "align": "left"
          },
          "hovermode": "closest",
          "mapbox": {
           "style": "light"
          },
          "paper_bgcolor": "white",
          "plot_bgcolor": "#E5ECF6",
          "polar": {
           "angularaxis": {
            "gridcolor": "white",
            "linecolor": "white",
            "ticks": ""
           },
           "bgcolor": "#E5ECF6",
           "radialaxis": {
            "gridcolor": "white",
            "linecolor": "white",
            "ticks": ""
           }
          },
          "scene": {
           "xaxis": {
            "backgroundcolor": "#E5ECF6",
            "gridcolor": "white",
            "gridwidth": 2,
            "linecolor": "white",
            "showbackground": true,
            "ticks": "",
            "zerolinecolor": "white"
           },
           "yaxis": {
            "backgroundcolor": "#E5ECF6",
            "gridcolor": "white",
            "gridwidth": 2,
            "linecolor": "white",
            "showbackground": true,
            "ticks": "",
            "zerolinecolor": "white"
           },
           "zaxis": {
            "backgroundcolor": "#E5ECF6",
            "gridcolor": "white",
            "gridwidth": 2,
            "linecolor": "white",
            "showbackground": true,
            "ticks": "",
            "zerolinecolor": "white"
           }
          },
          "shapedefaults": {
           "line": {
            "color": "#2a3f5f"
           }
          },
          "ternary": {
           "aaxis": {
            "gridcolor": "white",
            "linecolor": "white",
            "ticks": ""
           },
           "baxis": {
            "gridcolor": "white",
            "linecolor": "white",
            "ticks": ""
           },
           "bgcolor": "#E5ECF6",
           "caxis": {
            "gridcolor": "white",
            "linecolor": "white",
            "ticks": ""
           }
          },
          "title": {
           "x": 0.05
          },
          "xaxis": {
           "automargin": true,
           "gridcolor": "white",
           "linecolor": "white",
           "ticks": "",
           "title": {
            "standoff": 15
           },
           "zerolinecolor": "white",
           "zerolinewidth": 2
          },
          "yaxis": {
           "automargin": true,
           "gridcolor": "white",
           "linecolor": "white",
           "ticks": "",
           "title": {
            "standoff": 15
           },
           "zerolinecolor": "white",
           "zerolinewidth": 2
          }
         }
        },
        "xaxis": {
         "dtick": 1,
         "gridcolor": "rgb(0, 0, 0)",
         "side": "top",
         "ticks": ""
        },
        "yaxis": {
         "dtick": 1,
         "ticks": "",
         "ticksuffix": "  "
        }
       }
      },
      "text/html": [
       "<div>                            <div id=\"a25668b5-36f1-4d3f-9a7f-cce399dd969f\" class=\"plotly-graph-div\" style=\"height:525px; width:100%;\"></div>            <script type=\"text/javascript\">                require([\"plotly\"], function(Plotly) {                    window.PLOTLYENV=window.PLOTLYENV || {};                                    if (document.getElementById(\"a25668b5-36f1-4d3f-9a7f-cce399dd969f\")) {                    Plotly.newPlot(                        \"a25668b5-36f1-4d3f-9a7f-cce399dd969f\",                        [{\"colorscale\":[[0.0,\"#440154\"],[0.1111111111111111,\"#482878\"],[0.2222222222222222,\"#3e4989\"],[0.3333333333333333,\"#31688e\"],[0.4444444444444444,\"#26828e\"],[0.5555555555555556,\"#1f9e89\"],[0.6666666666666666,\"#35b779\"],[0.7777777777777778,\"#6ece58\"],[0.8888888888888888,\"#b5de2b\"],[1.0,\"#fde725\"]],\"hoverinfo\":\"z\",\"reversescale\":false,\"showscale\":false,\"x\":[\"age\",\"BMI\",\"Children\",\"health_insurance_price\"],\"y\":[\"age\",\"BMI\",\"Children\",\"health_insurance_price\"],\"z\":[[1.0,0.10816802896087263,0.05646396187228948,0.5339100055678062],[0.10816802896087263,1.0,0.01188142391488292,0.11928657146071273],[0.05646396187228948,0.01188142391488292,1.0,0.13262124377337325],[0.5339100055678062,0.11928657146071273,0.13262124377337325,1.0]],\"type\":\"heatmap\"}],                        {\"annotations\":[{\"font\":{\"color\":\"#000000\"},\"showarrow\":false,\"text\":\"1.0\",\"x\":\"age\",\"xref\":\"x\",\"y\":\"age\",\"yref\":\"y\"},{\"font\":{\"color\":\"#FFFFFF\"},\"showarrow\":false,\"text\":\"0.11\",\"x\":\"BMI\",\"xref\":\"x\",\"y\":\"age\",\"yref\":\"y\"},{\"font\":{\"color\":\"#FFFFFF\"},\"showarrow\":false,\"text\":\"0.06\",\"x\":\"Children\",\"xref\":\"x\",\"y\":\"age\",\"yref\":\"y\"},{\"font\":{\"color\":\"#000000\"},\"showarrow\":false,\"text\":\"0.53\",\"x\":\"health_insurance_price\",\"xref\":\"x\",\"y\":\"age\",\"yref\":\"y\"},{\"font\":{\"color\":\"#FFFFFF\"},\"showarrow\":false,\"text\":\"0.11\",\"x\":\"age\",\"xref\":\"x\",\"y\":\"BMI\",\"yref\":\"y\"},{\"font\":{\"color\":\"#000000\"},\"showarrow\":false,\"text\":\"1.0\",\"x\":\"BMI\",\"xref\":\"x\",\"y\":\"BMI\",\"yref\":\"y\"},{\"font\":{\"color\":\"#FFFFFF\"},\"showarrow\":false,\"text\":\"0.01\",\"x\":\"Children\",\"xref\":\"x\",\"y\":\"BMI\",\"yref\":\"y\"},{\"font\":{\"color\":\"#FFFFFF\"},\"showarrow\":false,\"text\":\"0.12\",\"x\":\"health_insurance_price\",\"xref\":\"x\",\"y\":\"BMI\",\"yref\":\"y\"},{\"font\":{\"color\":\"#FFFFFF\"},\"showarrow\":false,\"text\":\"0.06\",\"x\":\"age\",\"xref\":\"x\",\"y\":\"Children\",\"yref\":\"y\"},{\"font\":{\"color\":\"#FFFFFF\"},\"showarrow\":false,\"text\":\"0.01\",\"x\":\"BMI\",\"xref\":\"x\",\"y\":\"Children\",\"yref\":\"y\"},{\"font\":{\"color\":\"#000000\"},\"showarrow\":false,\"text\":\"1.0\",\"x\":\"Children\",\"xref\":\"x\",\"y\":\"Children\",\"yref\":\"y\"},{\"font\":{\"color\":\"#FFFFFF\"},\"showarrow\":false,\"text\":\"0.13\",\"x\":\"health_insurance_price\",\"xref\":\"x\",\"y\":\"Children\",\"yref\":\"y\"},{\"font\":{\"color\":\"#000000\"},\"showarrow\":false,\"text\":\"0.53\",\"x\":\"age\",\"xref\":\"x\",\"y\":\"health_insurance_price\",\"yref\":\"y\"},{\"font\":{\"color\":\"#FFFFFF\"},\"showarrow\":false,\"text\":\"0.12\",\"x\":\"BMI\",\"xref\":\"x\",\"y\":\"health_insurance_price\",\"yref\":\"y\"},{\"font\":{\"color\":\"#FFFFFF\"},\"showarrow\":false,\"text\":\"0.13\",\"x\":\"Children\",\"xref\":\"x\",\"y\":\"health_insurance_price\",\"yref\":\"y\"},{\"font\":{\"color\":\"#000000\"},\"showarrow\":false,\"text\":\"1.0\",\"x\":\"health_insurance_price\",\"xref\":\"x\",\"y\":\"health_insurance_price\",\"yref\":\"y\"}],\"xaxis\":{\"dtick\":1,\"gridcolor\":\"rgb(0, 0, 0)\",\"side\":\"top\",\"ticks\":\"\"},\"yaxis\":{\"dtick\":1,\"ticks\":\"\",\"ticksuffix\":\"  \"},\"template\":{\"data\":{\"histogram2dcontour\":[{\"type\":\"histogram2dcontour\",\"colorbar\":{\"outlinewidth\":0,\"ticks\":\"\"},\"colorscale\":[[0.0,\"#0d0887\"],[0.1111111111111111,\"#46039f\"],[0.2222222222222222,\"#7201a8\"],[0.3333333333333333,\"#9c179e\"],[0.4444444444444444,\"#bd3786\"],[0.5555555555555556,\"#d8576b\"],[0.6666666666666666,\"#ed7953\"],[0.7777777777777778,\"#fb9f3a\"],[0.8888888888888888,\"#fdca26\"],[1.0,\"#f0f921\"]]}],\"choropleth\":[{\"type\":\"choropleth\",\"colorbar\":{\"outlinewidth\":0,\"ticks\":\"\"}}],\"histogram2d\":[{\"type\":\"histogram2d\",\"colorbar\":{\"outlinewidth\":0,\"ticks\":\"\"},\"colorscale\":[[0.0,\"#0d0887\"],[0.1111111111111111,\"#46039f\"],[0.2222222222222222,\"#7201a8\"],[0.3333333333333333,\"#9c179e\"],[0.4444444444444444,\"#bd3786\"],[0.5555555555555556,\"#d8576b\"],[0.6666666666666666,\"#ed7953\"],[0.7777777777777778,\"#fb9f3a\"],[0.8888888888888888,\"#fdca26\"],[1.0,\"#f0f921\"]]}],\"heatmap\":[{\"type\":\"heatmap\",\"colorbar\":{\"outlinewidth\":0,\"ticks\":\"\"},\"colorscale\":[[0.0,\"#0d0887\"],[0.1111111111111111,\"#46039f\"],[0.2222222222222222,\"#7201a8\"],[0.3333333333333333,\"#9c179e\"],[0.4444444444444444,\"#bd3786\"],[0.5555555555555556,\"#d8576b\"],[0.6666666666666666,\"#ed7953\"],[0.7777777777777778,\"#fb9f3a\"],[0.8888888888888888,\"#fdca26\"],[1.0,\"#f0f921\"]]}],\"heatmapgl\":[{\"type\":\"heatmapgl\",\"colorbar\":{\"outlinewidth\":0,\"ticks\":\"\"},\"colorscale\":[[0.0,\"#0d0887\"],[0.1111111111111111,\"#46039f\"],[0.2222222222222222,\"#7201a8\"],[0.3333333333333333,\"#9c179e\"],[0.4444444444444444,\"#bd3786\"],[0.5555555555555556,\"#d8576b\"],[0.6666666666666666,\"#ed7953\"],[0.7777777777777778,\"#fb9f3a\"],[0.8888888888888888,\"#fdca26\"],[1.0,\"#f0f921\"]]}],\"contourcarpet\":[{\"type\":\"contourcarpet\",\"colorbar\":{\"outlinewidth\":0,\"ticks\":\"\"}}],\"contour\":[{\"type\":\"contour\",\"colorbar\":{\"outlinewidth\":0,\"ticks\":\"\"},\"colorscale\":[[0.0,\"#0d0887\"],[0.1111111111111111,\"#46039f\"],[0.2222222222222222,\"#7201a8\"],[0.3333333333333333,\"#9c179e\"],[0.4444444444444444,\"#bd3786\"],[0.5555555555555556,\"#d8576b\"],[0.6666666666666666,\"#ed7953\"],[0.7777777777777778,\"#fb9f3a\"],[0.8888888888888888,\"#fdca26\"],[1.0,\"#f0f921\"]]}],\"surface\":[{\"type\":\"surface\",\"colorbar\":{\"outlinewidth\":0,\"ticks\":\"\"},\"colorscale\":[[0.0,\"#0d0887\"],[0.1111111111111111,\"#46039f\"],[0.2222222222222222,\"#7201a8\"],[0.3333333333333333,\"#9c179e\"],[0.4444444444444444,\"#bd3786\"],[0.5555555555555556,\"#d8576b\"],[0.6666666666666666,\"#ed7953\"],[0.7777777777777778,\"#fb9f3a\"],[0.8888888888888888,\"#fdca26\"],[1.0,\"#f0f921\"]]}],\"mesh3d\":[{\"type\":\"mesh3d\",\"colorbar\":{\"outlinewidth\":0,\"ticks\":\"\"}}],\"scatter\":[{\"fillpattern\":{\"fillmode\":\"overlay\",\"size\":10,\"solidity\":0.2},\"type\":\"scatter\"}],\"parcoords\":[{\"type\":\"parcoords\",\"line\":{\"colorbar\":{\"outlinewidth\":0,\"ticks\":\"\"}}}],\"scatterpolargl\":[{\"type\":\"scatterpolargl\",\"marker\":{\"colorbar\":{\"outlinewidth\":0,\"ticks\":\"\"}}}],\"bar\":[{\"error_x\":{\"color\":\"#2a3f5f\"},\"error_y\":{\"color\":\"#2a3f5f\"},\"marker\":{\"line\":{\"color\":\"#E5ECF6\",\"width\":0.5},\"pattern\":{\"fillmode\":\"overlay\",\"size\":10,\"solidity\":0.2}},\"type\":\"bar\"}],\"scattergeo\":[{\"type\":\"scattergeo\",\"marker\":{\"colorbar\":{\"outlinewidth\":0,\"ticks\":\"\"}}}],\"scatterpolar\":[{\"type\":\"scatterpolar\",\"marker\":{\"colorbar\":{\"outlinewidth\":0,\"ticks\":\"\"}}}],\"histogram\":[{\"marker\":{\"pattern\":{\"fillmode\":\"overlay\",\"size\":10,\"solidity\":0.2}},\"type\":\"histogram\"}],\"scattergl\":[{\"type\":\"scattergl\",\"marker\":{\"colorbar\":{\"outlinewidth\":0,\"ticks\":\"\"}}}],\"scatter3d\":[{\"type\":\"scatter3d\",\"line\":{\"colorbar\":{\"outlinewidth\":0,\"ticks\":\"\"}},\"marker\":{\"colorbar\":{\"outlinewidth\":0,\"ticks\":\"\"}}}],\"scattermapbox\":[{\"type\":\"scattermapbox\",\"marker\":{\"colorbar\":{\"outlinewidth\":0,\"ticks\":\"\"}}}],\"scatterternary\":[{\"type\":\"scatterternary\",\"marker\":{\"colorbar\":{\"outlinewidth\":0,\"ticks\":\"\"}}}],\"scattercarpet\":[{\"type\":\"scattercarpet\",\"marker\":{\"colorbar\":{\"outlinewidth\":0,\"ticks\":\"\"}}}],\"carpet\":[{\"aaxis\":{\"endlinecolor\":\"#2a3f5f\",\"gridcolor\":\"white\",\"linecolor\":\"white\",\"minorgridcolor\":\"white\",\"startlinecolor\":\"#2a3f5f\"},\"baxis\":{\"endlinecolor\":\"#2a3f5f\",\"gridcolor\":\"white\",\"linecolor\":\"white\",\"minorgridcolor\":\"white\",\"startlinecolor\":\"#2a3f5f\"},\"type\":\"carpet\"}],\"table\":[{\"cells\":{\"fill\":{\"color\":\"#EBF0F8\"},\"line\":{\"color\":\"white\"}},\"header\":{\"fill\":{\"color\":\"#C8D4E3\"},\"line\":{\"color\":\"white\"}},\"type\":\"table\"}],\"barpolar\":[{\"marker\":{\"line\":{\"color\":\"#E5ECF6\",\"width\":0.5},\"pattern\":{\"fillmode\":\"overlay\",\"size\":10,\"solidity\":0.2}},\"type\":\"barpolar\"}],\"pie\":[{\"automargin\":true,\"type\":\"pie\"}]},\"layout\":{\"autotypenumbers\":\"strict\",\"colorway\":[\"#636efa\",\"#EF553B\",\"#00cc96\",\"#ab63fa\",\"#FFA15A\",\"#19d3f3\",\"#FF6692\",\"#B6E880\",\"#FF97FF\",\"#FECB52\"],\"font\":{\"color\":\"#2a3f5f\"},\"hovermode\":\"closest\",\"hoverlabel\":{\"align\":\"left\"},\"paper_bgcolor\":\"white\",\"plot_bgcolor\":\"#E5ECF6\",\"polar\":{\"bgcolor\":\"#E5ECF6\",\"angularaxis\":{\"gridcolor\":\"white\",\"linecolor\":\"white\",\"ticks\":\"\"},\"radialaxis\":{\"gridcolor\":\"white\",\"linecolor\":\"white\",\"ticks\":\"\"}},\"ternary\":{\"bgcolor\":\"#E5ECF6\",\"aaxis\":{\"gridcolor\":\"white\",\"linecolor\":\"white\",\"ticks\":\"\"},\"baxis\":{\"gridcolor\":\"white\",\"linecolor\":\"white\",\"ticks\":\"\"},\"caxis\":{\"gridcolor\":\"white\",\"linecolor\":\"white\",\"ticks\":\"\"}},\"coloraxis\":{\"colorbar\":{\"outlinewidth\":0,\"ticks\":\"\"}},\"colorscale\":{\"sequential\":[[0.0,\"#0d0887\"],[0.1111111111111111,\"#46039f\"],[0.2222222222222222,\"#7201a8\"],[0.3333333333333333,\"#9c179e\"],[0.4444444444444444,\"#bd3786\"],[0.5555555555555556,\"#d8576b\"],[0.6666666666666666,\"#ed7953\"],[0.7777777777777778,\"#fb9f3a\"],[0.8888888888888888,\"#fdca26\"],[1.0,\"#f0f921\"]],\"sequentialminus\":[[0.0,\"#0d0887\"],[0.1111111111111111,\"#46039f\"],[0.2222222222222222,\"#7201a8\"],[0.3333333333333333,\"#9c179e\"],[0.4444444444444444,\"#bd3786\"],[0.5555555555555556,\"#d8576b\"],[0.6666666666666666,\"#ed7953\"],[0.7777777777777778,\"#fb9f3a\"],[0.8888888888888888,\"#fdca26\"],[1.0,\"#f0f921\"]],\"diverging\":[[0,\"#8e0152\"],[0.1,\"#c51b7d\"],[0.2,\"#de77ae\"],[0.3,\"#f1b6da\"],[0.4,\"#fde0ef\"],[0.5,\"#f7f7f7\"],[0.6,\"#e6f5d0\"],[0.7,\"#b8e186\"],[0.8,\"#7fbc41\"],[0.9,\"#4d9221\"],[1,\"#276419\"]]},\"xaxis\":{\"gridcolor\":\"white\",\"linecolor\":\"white\",\"ticks\":\"\",\"title\":{\"standoff\":15},\"zerolinecolor\":\"white\",\"automargin\":true,\"zerolinewidth\":2},\"yaxis\":{\"gridcolor\":\"white\",\"linecolor\":\"white\",\"ticks\":\"\",\"title\":{\"standoff\":15},\"zerolinecolor\":\"white\",\"automargin\":true,\"zerolinewidth\":2},\"scene\":{\"xaxis\":{\"backgroundcolor\":\"#E5ECF6\",\"gridcolor\":\"white\",\"linecolor\":\"white\",\"showbackground\":true,\"ticks\":\"\",\"zerolinecolor\":\"white\",\"gridwidth\":2},\"yaxis\":{\"backgroundcolor\":\"#E5ECF6\",\"gridcolor\":\"white\",\"linecolor\":\"white\",\"showbackground\":true,\"ticks\":\"\",\"zerolinecolor\":\"white\",\"gridwidth\":2},\"zaxis\":{\"backgroundcolor\":\"#E5ECF6\",\"gridcolor\":\"white\",\"linecolor\":\"white\",\"showbackground\":true,\"ticks\":\"\",\"zerolinecolor\":\"white\",\"gridwidth\":2}},\"shapedefaults\":{\"line\":{\"color\":\"#2a3f5f\"}},\"annotationdefaults\":{\"arrowcolor\":\"#2a3f5f\",\"arrowhead\":0,\"arrowwidth\":1},\"geo\":{\"bgcolor\":\"white\",\"landcolor\":\"#E5ECF6\",\"subunitcolor\":\"white\",\"showland\":true,\"showlakes\":true,\"lakecolor\":\"white\"},\"title\":{\"x\":0.05},\"mapbox\":{\"style\":\"light\"}}}},                        {\"responsive\": true}                    ).then(function(){\n",
       "                            \n",
       "var gd = document.getElementById('a25668b5-36f1-4d3f-9a7f-cce399dd969f');\n",
       "var x = new MutationObserver(function (mutations, observer) {{\n",
       "        var display = window.getComputedStyle(gd).display;\n",
       "        if (!display || display === 'none') {{\n",
       "            console.log([gd, 'removed!']);\n",
       "            Plotly.purge(gd);\n",
       "            observer.disconnect();\n",
       "        }}\n",
       "}});\n",
       "\n",
       "// Listen for the removal of the full notebook cells\n",
       "var notebookContainer = gd.closest('#notebook-container');\n",
       "if (notebookContainer) {{\n",
       "    x.observe(notebookContainer, {childList: true});\n",
       "}}\n",
       "\n",
       "// Listen for the clearing of the current output cell\n",
       "var outputEl = gd.closest('.output');\n",
       "if (outputEl) {{\n",
       "    x.observe(outputEl, {childList: true});\n",
       "}}\n",
       "\n",
       "                        })                };                });            </script>        </div>"
      ]
     },
     "metadata": {},
     "output_type": "display_data"
    }
   ],
   "source": [
    "import plotly.figure_factory as ff\n",
    "health_insurance_corr = health_insurance.corr(method='spearman') # Generate correlation matrix for spearman correlation\n",
    "\n",
    "x = list(health_insurance_corr.columns)\n",
    "y = list(health_insurance_corr.index)\n",
    "z = np.array(health_insurance_corr)\n",
    "\n",
    "fig = ff.create_annotated_heatmap(\n",
    "    z,\n",
    "    x = x,\n",
    "    y = y ,\n",
    "    annotation_text = np.around(z, decimals=2),\n",
    "    hoverinfo='z',\n",
    "    colorscale='Viridis'\n",
    "    )\n",
    "fig.show()"
   ]
  },
  {
   "cell_type": "markdown",
   "id": "d677dc37",
   "metadata": {},
   "source": [
    "### Remark \n",
    "\n",
    "We can observe Age, Smoker and BMI is important factor in determining Health insurance price. Were as Gender and location didnt impact much on price.\n",
    "\n",
    "- People who smoke were having higher BMI thus resulting in higher medical charges. Hence, they are charged higher. \n",
    "- Aged people with habit of smoking are also charged high."
   ]
  },
  {
   "cell_type": "code",
   "execution_count": 433,
   "id": "3c85a6fa",
   "metadata": {
    "scrolled": true
   },
   "outputs": [
    {
     "name": "stdout",
     "output_type": "stream",
     "text": [
      "<class 'pandas.core.frame.DataFrame'>\n",
      "RangeIndex: 1338 entries, 0 to 1337\n",
      "Data columns (total 7 columns):\n",
      " #   Column                  Non-Null Count  Dtype   \n",
      "---  ------                  --------------  -----   \n",
      " 0   age                     1310 non-null   float64 \n",
      " 1   gender                  1338 non-null   category\n",
      " 2   BMI                     1315 non-null   float64 \n",
      " 3   Children                1338 non-null   int64   \n",
      " 4   smoking_status          1338 non-null   category\n",
      " 5   location                1338 non-null   category\n",
      " 6   health_insurance_price  1336 non-null   float64 \n",
      "dtypes: category(3), float64(3), int64(1)\n",
      "memory usage: 46.3 KB\n"
     ]
    }
   ],
   "source": [
    "health_insurance.info()"
   ]
  },
  {
   "cell_type": "code",
   "execution_count": 434,
   "id": "fad4d590",
   "metadata": {
    "scrolled": true
   },
   "outputs": [],
   "source": [
    "# Dealing with categorical values\n",
    "health_insurance_1 = pd.get_dummies(health_insurance,columns=['gender', 'smoking_status', 'location'])\n",
    "health_insurance_1.drop(['gender_male','smoking_status_yes','location_southwest'],inplace=True,axis = 1)"
   ]
  },
  {
   "cell_type": "code",
   "execution_count": 435,
   "id": "e3cfff8b",
   "metadata": {
    "scrolled": true
   },
   "outputs": [
    {
     "data": {
      "text/html": [
       "<div>\n",
       "<style scoped>\n",
       "    .dataframe tbody tr th:only-of-type {\n",
       "        vertical-align: middle;\n",
       "    }\n",
       "\n",
       "    .dataframe tbody tr th {\n",
       "        vertical-align: top;\n",
       "    }\n",
       "\n",
       "    .dataframe thead th {\n",
       "        text-align: right;\n",
       "    }\n",
       "</style>\n",
       "<table border=\"1\" class=\"dataframe\">\n",
       "  <thead>\n",
       "    <tr style=\"text-align: right;\">\n",
       "      <th></th>\n",
       "      <th>age</th>\n",
       "      <th>BMI</th>\n",
       "      <th>Children</th>\n",
       "      <th>health_insurance_price</th>\n",
       "      <th>gender_female</th>\n",
       "      <th>smoking_status_no</th>\n",
       "      <th>location_northeast</th>\n",
       "      <th>location_northwest</th>\n",
       "      <th>location_southeast</th>\n",
       "    </tr>\n",
       "  </thead>\n",
       "  <tbody>\n",
       "    <tr>\n",
       "      <th>0</th>\n",
       "      <td>19.0</td>\n",
       "      <td>NaN</td>\n",
       "      <td>0</td>\n",
       "      <td>16884.92400</td>\n",
       "      <td>1</td>\n",
       "      <td>0</td>\n",
       "      <td>0</td>\n",
       "      <td>0</td>\n",
       "      <td>0</td>\n",
       "    </tr>\n",
       "    <tr>\n",
       "      <th>1</th>\n",
       "      <td>18.0</td>\n",
       "      <td>33.770</td>\n",
       "      <td>1</td>\n",
       "      <td>1725.55230</td>\n",
       "      <td>0</td>\n",
       "      <td>1</td>\n",
       "      <td>0</td>\n",
       "      <td>0</td>\n",
       "      <td>1</td>\n",
       "    </tr>\n",
       "    <tr>\n",
       "      <th>2</th>\n",
       "      <td>28.0</td>\n",
       "      <td>33.000</td>\n",
       "      <td>3</td>\n",
       "      <td>4449.46200</td>\n",
       "      <td>0</td>\n",
       "      <td>1</td>\n",
       "      <td>0</td>\n",
       "      <td>0</td>\n",
       "      <td>1</td>\n",
       "    </tr>\n",
       "    <tr>\n",
       "      <th>3</th>\n",
       "      <td>33.0</td>\n",
       "      <td>22.705</td>\n",
       "      <td>0</td>\n",
       "      <td>21984.47061</td>\n",
       "      <td>0</td>\n",
       "      <td>1</td>\n",
       "      <td>0</td>\n",
       "      <td>1</td>\n",
       "      <td>0</td>\n",
       "    </tr>\n",
       "    <tr>\n",
       "      <th>4</th>\n",
       "      <td>32.0</td>\n",
       "      <td>28.880</td>\n",
       "      <td>0</td>\n",
       "      <td>3866.85520</td>\n",
       "      <td>0</td>\n",
       "      <td>1</td>\n",
       "      <td>0</td>\n",
       "      <td>1</td>\n",
       "      <td>0</td>\n",
       "    </tr>\n",
       "  </tbody>\n",
       "</table>\n",
       "</div>"
      ],
      "text/plain": [
       "    age     BMI  Children  health_insurance_price  gender_female  \\\n",
       "0  19.0     NaN         0             16884.92400              1   \n",
       "1  18.0  33.770         1              1725.55230              0   \n",
       "2  28.0  33.000         3              4449.46200              0   \n",
       "3  33.0  22.705         0             21984.47061              0   \n",
       "4  32.0  28.880         0              3866.85520              0   \n",
       "\n",
       "   smoking_status_no  location_northeast  location_northwest  \\\n",
       "0                  0                   0                   0   \n",
       "1                  1                   0                   0   \n",
       "2                  1                   0                   0   \n",
       "3                  1                   0                   1   \n",
       "4                  1                   0                   1   \n",
       "\n",
       "   location_southeast  \n",
       "0                   0  \n",
       "1                   1  \n",
       "2                   1  \n",
       "3                   0  \n",
       "4                   0  "
      ]
     },
     "execution_count": 435,
     "metadata": {},
     "output_type": "execute_result"
    }
   ],
   "source": [
    "health_insurance_1.head()"
   ]
  },
  {
   "cell_type": "code",
   "execution_count": 436,
   "id": "0222dc64",
   "metadata": {
    "scrolled": true
   },
   "outputs": [
    {
     "name": "stdout",
     "output_type": "stream",
     "text": [
      "Imputing row 1/1338 with 1 missing, elapsed time: 0.167\n",
      "Imputing row 101/1338 with 0 missing, elapsed time: 0.167\n",
      "Imputing row 201/1338 with 0 missing, elapsed time: 0.167\n",
      "Imputing row 301/1338 with 0 missing, elapsed time: 0.168\n",
      "Imputing row 401/1338 with 0 missing, elapsed time: 0.168\n",
      "Imputing row 501/1338 with 0 missing, elapsed time: 0.169\n",
      "Imputing row 601/1338 with 0 missing, elapsed time: 0.169\n",
      "Imputing row 701/1338 with 0 missing, elapsed time: 0.169\n",
      "Imputing row 801/1338 with 0 missing, elapsed time: 0.170\n",
      "Imputing row 901/1338 with 0 missing, elapsed time: 0.170\n",
      "Imputing row 1001/1338 with 0 missing, elapsed time: 0.170\n",
      "Imputing row 1101/1338 with 0 missing, elapsed time: 0.171\n",
      "Imputing row 1201/1338 with 0 missing, elapsed time: 0.171\n",
      "Imputing row 1301/1338 with 0 missing, elapsed time: 0.171\n"
     ]
    }
   ],
   "source": [
    "#Imputation\n",
    "\n",
    "from fancyimpute import KNN\n",
    "knn_imputer = KNN()\n",
    "health_insurance_knn = health_insurance_1.copy(deep=True)\n",
    "health_insurance_knn.iloc[:, :] = knn_imputer.fit_transform(health_insurance_knn)"
   ]
  },
  {
   "cell_type": "code",
   "execution_count": 437,
   "id": "c5a37f45",
   "metadata": {
    "scrolled": true
   },
   "outputs": [
    {
     "data": {
      "text/plain": [
       "age                       0.052237\n",
       "BMI                       0.284200\n",
       "Children                  0.938380\n",
       "health_insurance_price    1.518254\n",
       "gender_female             0.020951\n",
       "smoking_status_no        -1.464766\n",
       "location_northeast        1.205161\n",
       "location_northwest        1.200409\n",
       "location_southeast        1.025621\n",
       "dtype: float64"
      ]
     },
     "execution_count": 437,
     "metadata": {},
     "output_type": "execute_result"
    }
   ],
   "source": [
    "health_insurance_knn.skew()"
   ]
  },
  {
   "cell_type": "code",
   "execution_count": 438,
   "id": "b3b9c294",
   "metadata": {},
   "outputs": [
    {
     "data": {
      "text/html": [
       "<div>\n",
       "<style scoped>\n",
       "    .dataframe tbody tr th:only-of-type {\n",
       "        vertical-align: middle;\n",
       "    }\n",
       "\n",
       "    .dataframe tbody tr th {\n",
       "        vertical-align: top;\n",
       "    }\n",
       "\n",
       "    .dataframe thead th {\n",
       "        text-align: right;\n",
       "    }\n",
       "</style>\n",
       "<table border=\"1\" class=\"dataframe\">\n",
       "  <thead>\n",
       "    <tr style=\"text-align: right;\">\n",
       "      <th></th>\n",
       "      <th>age</th>\n",
       "      <th>BMI</th>\n",
       "      <th>Children</th>\n",
       "      <th>health_insurance_price</th>\n",
       "      <th>gender_female</th>\n",
       "      <th>smoking_status_no</th>\n",
       "      <th>location_northeast</th>\n",
       "      <th>location_northwest</th>\n",
       "      <th>location_southeast</th>\n",
       "    </tr>\n",
       "  </thead>\n",
       "  <tbody>\n",
       "    <tr>\n",
       "      <th>0</th>\n",
       "      <td>19.0</td>\n",
       "      <td>38.841501</td>\n",
       "      <td>0.0</td>\n",
       "      <td>16884.92400</td>\n",
       "      <td>1.0</td>\n",
       "      <td>0.0</td>\n",
       "      <td>0.0</td>\n",
       "      <td>0.0</td>\n",
       "      <td>0.0</td>\n",
       "    </tr>\n",
       "    <tr>\n",
       "      <th>1</th>\n",
       "      <td>18.0</td>\n",
       "      <td>33.770000</td>\n",
       "      <td>1.0</td>\n",
       "      <td>1725.55230</td>\n",
       "      <td>0.0</td>\n",
       "      <td>1.0</td>\n",
       "      <td>0.0</td>\n",
       "      <td>0.0</td>\n",
       "      <td>1.0</td>\n",
       "    </tr>\n",
       "    <tr>\n",
       "      <th>2</th>\n",
       "      <td>28.0</td>\n",
       "      <td>33.000000</td>\n",
       "      <td>3.0</td>\n",
       "      <td>4449.46200</td>\n",
       "      <td>0.0</td>\n",
       "      <td>1.0</td>\n",
       "      <td>0.0</td>\n",
       "      <td>0.0</td>\n",
       "      <td>1.0</td>\n",
       "    </tr>\n",
       "    <tr>\n",
       "      <th>3</th>\n",
       "      <td>33.0</td>\n",
       "      <td>22.705000</td>\n",
       "      <td>0.0</td>\n",
       "      <td>21984.47061</td>\n",
       "      <td>0.0</td>\n",
       "      <td>1.0</td>\n",
       "      <td>0.0</td>\n",
       "      <td>1.0</td>\n",
       "      <td>0.0</td>\n",
       "    </tr>\n",
       "    <tr>\n",
       "      <th>4</th>\n",
       "      <td>32.0</td>\n",
       "      <td>28.880000</td>\n",
       "      <td>0.0</td>\n",
       "      <td>3866.85520</td>\n",
       "      <td>0.0</td>\n",
       "      <td>1.0</td>\n",
       "      <td>0.0</td>\n",
       "      <td>1.0</td>\n",
       "      <td>0.0</td>\n",
       "    </tr>\n",
       "  </tbody>\n",
       "</table>\n",
       "</div>"
      ],
      "text/plain": [
       "    age        BMI  Children  health_insurance_price  gender_female  \\\n",
       "0  19.0  38.841501       0.0             16884.92400            1.0   \n",
       "1  18.0  33.770000       1.0              1725.55230            0.0   \n",
       "2  28.0  33.000000       3.0              4449.46200            0.0   \n",
       "3  33.0  22.705000       0.0             21984.47061            0.0   \n",
       "4  32.0  28.880000       0.0              3866.85520            0.0   \n",
       "\n",
       "   smoking_status_no  location_northeast  location_northwest  \\\n",
       "0                0.0                 0.0                 0.0   \n",
       "1                1.0                 0.0                 0.0   \n",
       "2                1.0                 0.0                 0.0   \n",
       "3                1.0                 0.0                 1.0   \n",
       "4                1.0                 0.0                 1.0   \n",
       "\n",
       "   location_southeast  \n",
       "0                 0.0  \n",
       "1                 1.0  \n",
       "2                 1.0  \n",
       "3                 0.0  \n",
       "4                 0.0  "
      ]
     },
     "execution_count": 438,
     "metadata": {},
     "output_type": "execute_result"
    }
   ],
   "source": [
    "health_insurance_knn.head()"
   ]
  },
  {
   "cell_type": "code",
   "execution_count": 439,
   "id": "7c7a7b5f",
   "metadata": {},
   "outputs": [
    {
     "data": {
      "text/plain": [
       "<AxesSubplot:ylabel='health_insurance_price'>"
      ]
     },
     "execution_count": 439,
     "metadata": {},
     "output_type": "execute_result"
    },
    {
     "data": {
      "image/png": "[encoded data removed]",
      "text/plain": [
       "<Figure size 432x288 with 1 Axes>"
      ]
     },
     "metadata": {
      "needs_background": "light"
     },
     "output_type": "display_data"
    }
   ],
   "source": [
    "sns.boxplot(y=health_insurance_knn['health_insurance_price'])"
   ]
  },
  {
   "cell_type": "code",
   "execution_count": 440,
   "id": "f57d2c86",
   "metadata": {},
   "outputs": [
    {
     "name": "stdout",
     "output_type": "stream",
     "text": [
      "(array([  34,  543,  577,  819, 1146, 1230, 1241, 1300], dtype=int64),)\n"
     ]
    }
   ],
   "source": [
    "health_insurance_knn['zscore_price'] = np.abs(stats.zscore(health_insurance_knn.health_insurance_price))\n",
    "outlier = health_insurance_knn['zscore_price'] > 3\n",
    "print(np.where(health_insurance_knn['zscore_price'] > 3))"
   ]
  },
  {
   "cell_type": "code",
   "execution_count": 441,
   "id": "d817c2d7",
   "metadata": {},
   "outputs": [],
   "source": [
    "health_insurance_new = health_insurance_knn[health_insurance_knn['zscore_price']<3]"
   ]
  },
  {
   "cell_type": "code",
   "execution_count": 442,
   "id": "3bb8411c",
   "metadata": {},
   "outputs": [],
   "source": [
    "health_insurance_new.drop('zscore_price',axis=1,inplace=True)"
   ]
  },
  {
   "cell_type": "code",
   "execution_count": 443,
   "id": "5e4a84d2",
   "metadata": {},
   "outputs": [
    {
     "data": {
      "text/html": [
       "<div>\n",
       "<style scoped>\n",
       "    .dataframe tbody tr th:only-of-type {\n",
       "        vertical-align: middle;\n",
       "    }\n",
       "\n",
       "    .dataframe tbody tr th {\n",
       "        vertical-align: top;\n",
       "    }\n",
       "\n",
       "    .dataframe thead th {\n",
       "        text-align: right;\n",
       "    }\n",
       "</style>\n",
       "<table border=\"1\" class=\"dataframe\">\n",
       "  <thead>\n",
       "    <tr style=\"text-align: right;\">\n",
       "      <th></th>\n",
       "      <th>age</th>\n",
       "      <th>BMI</th>\n",
       "      <th>Children</th>\n",
       "      <th>health_insurance_price</th>\n",
       "      <th>gender_female</th>\n",
       "      <th>smoking_status_no</th>\n",
       "      <th>location_northeast</th>\n",
       "      <th>location_northwest</th>\n",
       "      <th>location_southeast</th>\n",
       "    </tr>\n",
       "  </thead>\n",
       "  <tbody>\n",
       "    <tr>\n",
       "      <th>count</th>\n",
       "      <td>1330.000000</td>\n",
       "      <td>1330.000000</td>\n",
       "      <td>1330.000000</td>\n",
       "      <td>1330.000000</td>\n",
       "      <td>1330.000000</td>\n",
       "      <td>1330.00000</td>\n",
       "      <td>1330.000000</td>\n",
       "      <td>1330.000000</td>\n",
       "      <td>1330.000000</td>\n",
       "    </tr>\n",
       "    <tr>\n",
       "      <th>mean</th>\n",
       "      <td>39.151475</td>\n",
       "      <td>30.677570</td>\n",
       "      <td>1.096241</td>\n",
       "      <td>13005.332215</td>\n",
       "      <td>0.495489</td>\n",
       "      <td>0.80000</td>\n",
       "      <td>0.242857</td>\n",
       "      <td>0.242857</td>\n",
       "      <td>0.271429</td>\n",
       "    </tr>\n",
       "    <tr>\n",
       "      <th>std</th>\n",
       "      <td>13.956647</td>\n",
       "      <td>6.103858</td>\n",
       "      <td>1.206230</td>\n",
       "      <td>11655.641277</td>\n",
       "      <td>0.500168</td>\n",
       "      <td>0.40015</td>\n",
       "      <td>0.428971</td>\n",
       "      <td>0.428971</td>\n",
       "      <td>0.444864</td>\n",
       "    </tr>\n",
       "    <tr>\n",
       "      <th>min</th>\n",
       "      <td>18.000000</td>\n",
       "      <td>15.960000</td>\n",
       "      <td>0.000000</td>\n",
       "      <td>1121.873900</td>\n",
       "      <td>0.000000</td>\n",
       "      <td>0.00000</td>\n",
       "      <td>0.000000</td>\n",
       "      <td>0.000000</td>\n",
       "      <td>0.000000</td>\n",
       "    </tr>\n",
       "    <tr>\n",
       "      <th>25%</th>\n",
       "      <td>27.000000</td>\n",
       "      <td>26.296250</td>\n",
       "      <td>0.000000</td>\n",
       "      <td>4724.369462</td>\n",
       "      <td>0.000000</td>\n",
       "      <td>1.00000</td>\n",
       "      <td>0.000000</td>\n",
       "      <td>0.000000</td>\n",
       "      <td>0.000000</td>\n",
       "    </tr>\n",
       "    <tr>\n",
       "      <th>50%</th>\n",
       "      <td>39.000000</td>\n",
       "      <td>30.400000</td>\n",
       "      <td>1.000000</td>\n",
       "      <td>9296.016525</td>\n",
       "      <td>0.000000</td>\n",
       "      <td>1.00000</td>\n",
       "      <td>0.000000</td>\n",
       "      <td>0.000000</td>\n",
       "      <td>0.000000</td>\n",
       "    </tr>\n",
       "    <tr>\n",
       "      <th>75%</th>\n",
       "      <td>51.000000</td>\n",
       "      <td>34.600000</td>\n",
       "      <td>2.000000</td>\n",
       "      <td>16281.596250</td>\n",
       "      <td>1.000000</td>\n",
       "      <td>1.00000</td>\n",
       "      <td>0.000000</td>\n",
       "      <td>0.000000</td>\n",
       "      <td>1.000000</td>\n",
       "    </tr>\n",
       "    <tr>\n",
       "      <th>max</th>\n",
       "      <td>64.000000</td>\n",
       "      <td>53.130000</td>\n",
       "      <td>5.000000</td>\n",
       "      <td>48970.247600</td>\n",
       "      <td>1.000000</td>\n",
       "      <td>1.00000</td>\n",
       "      <td>1.000000</td>\n",
       "      <td>1.000000</td>\n",
       "      <td>1.000000</td>\n",
       "    </tr>\n",
       "  </tbody>\n",
       "</table>\n",
       "</div>"
      ],
      "text/plain": [
       "               age          BMI     Children  health_insurance_price  \\\n",
       "count  1330.000000  1330.000000  1330.000000             1330.000000   \n",
       "mean     39.151475    30.677570     1.096241            13005.332215   \n",
       "std      13.956647     6.103858     1.206230            11655.641277   \n",
       "min      18.000000    15.960000     0.000000             1121.873900   \n",
       "25%      27.000000    26.296250     0.000000             4724.369462   \n",
       "50%      39.000000    30.400000     1.000000             9296.016525   \n",
       "75%      51.000000    34.600000     2.000000            16281.596250   \n",
       "max      64.000000    53.130000     5.000000            48970.247600   \n",
       "\n",
       "       gender_female  smoking_status_no  location_northeast  \\\n",
       "count    1330.000000         1330.00000         1330.000000   \n",
       "mean        0.495489            0.80000            0.242857   \n",
       "std         0.500168            0.40015            0.428971   \n",
       "min         0.000000            0.00000            0.000000   \n",
       "25%         0.000000            1.00000            0.000000   \n",
       "50%         0.000000            1.00000            0.000000   \n",
       "75%         1.000000            1.00000            0.000000   \n",
       "max         1.000000            1.00000            1.000000   \n",
       "\n",
       "       location_northwest  location_southeast  \n",
       "count         1330.000000         1330.000000  \n",
       "mean             0.242857            0.271429  \n",
       "std              0.428971            0.444864  \n",
       "min              0.000000            0.000000  \n",
       "25%              0.000000            0.000000  \n",
       "50%              0.000000            0.000000  \n",
       "75%              0.000000            1.000000  \n",
       "max              1.000000            1.000000  "
      ]
     },
     "execution_count": 443,
     "metadata": {},
     "output_type": "execute_result"
    }
   ],
   "source": [
    "health_insurance_new.describe()"
   ]
  },
  {
   "cell_type": "code",
   "execution_count": 444,
   "id": "39fefd24",
   "metadata": {},
   "outputs": [],
   "source": [
    "X = health_insurance_new.drop('health_insurance_price',axis = 1)\n",
    "y = health_insurance_new.health_insurance_price\n",
    "\n",
    "from sklearn.model_selection import train_test_split\n",
    "X_train, X_test, y_train, y_test = train_test_split(X,y,test_size=0.2, random_state=42)"
   ]
  },
  {
   "cell_type": "markdown",
   "id": "2cb47f55",
   "metadata": {},
   "source": [
    "## Feature Scaling"
   ]
  },
  {
   "cell_type": "code",
   "execution_count": 445,
   "id": "f0ca33a3",
   "metadata": {
    "scrolled": true
   },
   "outputs": [
    {
     "data": {
      "text/plain": [
       "array([[-0.85659377, -1.07823339, -0.90606797, ..., -0.55853428,\n",
       "        -0.56287804, -0.6092077 ],\n",
       "       [ 0.73068242, -0.05365826, -0.90606797, ..., -0.55853428,\n",
       "        -0.56287804, -0.6092077 ],\n",
       "       [ 0.22564   ,  0.85523903,  0.76329363, ..., -0.55853428,\n",
       "        -0.56287804, -0.6092077 ],\n",
       "       ...,\n",
       "       [-1.00089161, -1.62357177, -0.07138717, ..., -0.55853428,\n",
       "        -0.56287804, -0.6092077 ],\n",
       "       [ 0.87498026, -0.86340312, -0.90606797, ..., -0.55853428,\n",
       "        -0.56287804, -0.6092077 ],\n",
       "       [ 0.00919324, -1.11624182,  3.26733603, ..., -0.55853428,\n",
       "        -0.56287804,  1.6414763 ]])"
      ]
     },
     "execution_count": 445,
     "metadata": {},
     "output_type": "execute_result"
    }
   ],
   "source": [
    "from sklearn.preprocessing import StandardScaler\n",
    "sc = StandardScaler()\n",
    "X_train=sc.fit_transform(X_train)\n",
    "X_train"
   ]
  },
  {
   "cell_type": "code",
   "execution_count": 446,
   "id": "bea72f94",
   "metadata": {},
   "outputs": [
    {
     "data": {
      "text/plain": [
       "array([[-1.43378512, -0.83778874, -0.07138717, ..., -0.55853428,\n",
       "         1.7765838 , -0.6092077 ],\n",
       "       [ 1.38002268,  3.04650778, -0.90606797, ..., -0.55853428,\n",
       "        -0.56287804,  1.6414763 ],\n",
       "       [ 0.78143617, -0.7973015 , -0.07138717, ..., -0.55853428,\n",
       "        -0.56287804, -0.6092077 ],\n",
       "       ...,\n",
       "       [-1.43378512, -0.75929307, -0.07138717, ..., -0.55853428,\n",
       "         1.7765838 , -0.6092077 ],\n",
       "       [-1.43378512, -1.64009717, -0.90606797, ..., -0.55853428,\n",
       "        -0.56287804, -0.6092077 ],\n",
       "       [ 0.00919324, -0.71219566,  0.76329363, ..., -0.55853428,\n",
       "         1.7765838 , -0.6092077 ]])"
      ]
     },
     "execution_count": 446,
     "metadata": {},
     "output_type": "execute_result"
    }
   ],
   "source": [
    "X_test=sc.transform(X_test)\n",
    "X_test"
   ]
  },
  {
   "cell_type": "code",
   "execution_count": 447,
   "id": "b0fa2ebd",
   "metadata": {},
   "outputs": [],
   "source": [
    "from sklearn.linear_model import LinearRegression\n",
    "from sklearn.ensemble import RandomForestRegressor\n",
    "from sklearn.tree import DecisionTreeRegressor\n",
    "from sklearn.svm import SVR\n",
    "import xgboost as xgb\n",
    "\n",
    "from sklearn.metrics import r2_score, mean_squared_error, accuracy_score, confusion_matrix\n",
    "from sklearn.model_selection import cross_val_score, RandomizedSearchCV, GridSearchCV"
   ]
  },
  {
   "cell_type": "markdown",
   "id": "e94ef107",
   "metadata": {},
   "source": [
    "# Linear Regression"
   ]
  },
  {
   "cell_type": "code",
   "execution_count": 448,
   "id": "29f8f82b",
   "metadata": {},
   "outputs": [
    {
     "data": {
      "text/plain": [
       "LinearRegression()"
      ]
     },
     "execution_count": 448,
     "metadata": {},
     "output_type": "execute_result"
    }
   ],
   "source": [
    "linear_reg = LinearRegression()\n",
    "linear_reg.fit(X_train, y_train)"
   ]
  },
  {
   "cell_type": "code",
   "execution_count": 449,
   "id": "035f9c64",
   "metadata": {},
   "outputs": [],
   "source": [
    "y_pred = linear_reg.predict(X_train)"
   ]
  },
  {
   "cell_type": "code",
   "execution_count": 450,
   "id": "c55e5d3e",
   "metadata": {},
   "outputs": [
    {
     "name": "stdout",
     "output_type": "stream",
     "text": [
      "0.7467755339368232\n"
     ]
    }
   ],
   "source": [
    "r2 = r2_score(y_true=y_train,y_pred=y_pred)\n",
    "print(r2)"
   ]
  },
  {
   "cell_type": "code",
   "execution_count": 451,
   "id": "bbf42aff",
   "metadata": {},
   "outputs": [
    {
     "name": "stdout",
     "output_type": "stream",
     "text": [
      "Adjusted-R2 :  0.7458192481888504\n"
     ]
    }
   ],
   "source": [
    "N=X.shape[0]\n",
    "p=5\n",
    "x = (1-r2)\n",
    "y = (N-1) / (N-p-1)\n",
    "adj_rsquared = (1 - (x * y))\n",
    "print(\"Adjusted-R2 : \" , adj_rsquared)"
   ]
  },
  {
   "cell_type": "code",
   "execution_count": 452,
   "id": "bf8b09c5",
   "metadata": {},
   "outputs": [
    {
     "name": "stdout",
     "output_type": "stream",
     "text": [
      "Mean of Residuals 2.024138584396893e-12\n"
     ]
    }
   ],
   "source": [
    "residuals = y_train.values-y_pred\n",
    "mean_residuals = np.mean(residuals)\n",
    "print(\"Mean of Residuals {}\".format(mean_residuals))"
   ]
  },
  {
   "cell_type": "code",
   "execution_count": 453,
   "id": "4488f99f",
   "metadata": {},
   "outputs": [
    {
     "name": "stderr",
     "output_type": "stream",
     "text": [
      "C:\\Users\\prath\\anaconda3\\lib\\site-packages\\seaborn\\_decorators.py:36: FutureWarning:\n",
      "\n",
      "Pass the following variables as keyword args: x, y. From version 0.12, the only valid positional argument will be `data`, and passing other arguments without an explicit keyword will result in an error or misinterpretation.\n",
      "\n",
      "C:\\Users\\prath\\anaconda3\\lib\\site-packages\\seaborn\\_decorators.py:36: FutureWarning:\n",
      "\n",
      "Pass the following variables as keyword args: x, y. From version 0.12, the only valid positional argument will be `data`, and passing other arguments without an explicit keyword will result in an error or misinterpretation.\n",
      "\n"
     ]
    },
    {
     "data": {
      "image/png": "[encoded data removed]",
      "text/plain": [
       "<Figure size 432x288 with 1 Axes>"
      ]
     },
     "metadata": {
      "needs_background": "light"
     },
     "output_type": "display_data"
    }
   ],
   "source": [
    "p = sns.scatterplot(y_pred, residuals)\n",
    "plt.xlabel('y_pred/predicted values')\n",
    "plt.ylabel('Residuals')\n",
    "p = sns.lineplot([0,2.6],[0,0],color='blue')\n",
    "p = plt.title('Residuals vs fitted values plot for homoscedasticity check')"
   ]
  },
  {
   "cell_type": "code",
   "execution_count": 454,
   "id": "db90d3aa",
   "metadata": {},
   "outputs": [
    {
     "name": "stderr",
     "output_type": "stream",
     "text": [
      "C:\\Users\\prath\\anaconda3\\lib\\site-packages\\seaborn\\distributions.py:2619: FutureWarning:\n",
      "\n",
      "`distplot` is a deprecated function and will be removed in a future version. Please adapt your code to use either `displot` (a figure-level function with similar flexibility) or `histplot` (an axes-level function for histograms).\n",
      "\n"
     ]
    },
    {
     "data": {
      "text/plain": [
       "<AxesSubplot:xlabel='health_insurance_price', ylabel='Density'>"
      ]
     },
     "execution_count": 454,
     "metadata": {},
     "output_type": "execute_result"
    },
    {
     "data": {
      "image/png": "[encoded data removed]",
      "text/plain": [
       "<Figure size 432x288 with 1 Axes>"
      ]
     },
     "metadata": {
      "needs_background": "light"
     },
     "output_type": "display_data"
    }
   ],
   "source": [
    "sns.distplot((y_train-y_pred),bins=50)"
   ]
  },
  {
   "cell_type": "code",
   "execution_count": 455,
   "id": "7f3d5f6d",
   "metadata": {},
   "outputs": [],
   "source": [
    "predictions = linear_reg.predict(X_test)"
   ]
  },
  {
   "cell_type": "code",
   "execution_count": 456,
   "id": "e9874723",
   "metadata": {},
   "outputs": [
    {
     "data": {
      "text/plain": [
       "<matplotlib.collections.PathCollection at 0x1db7013deb0>"
      ]
     },
     "execution_count": 456,
     "metadata": {},
     "output_type": "execute_result"
    },
    {
     "data": {
      "image/png": "[encoded data removed]",
      "text/plain": [
       "<Figure size 432x288 with 1 Axes>"
      ]
     },
     "metadata": {
      "needs_background": "light"
     },
     "output_type": "display_data"
    }
   ],
   "source": [
    "plt.scatter(y_test,predictions)"
   ]
  },
  {
   "cell_type": "code",
   "execution_count": 457,
   "id": "65c8f7aa",
   "metadata": {},
   "outputs": [
    {
     "name": "stdout",
     "output_type": "stream",
     "text": [
      "MAE: 4071.87065214009\n",
      "MSE: 35299083.202583216\n",
      "RMSE: 5941.3031569331\n"
     ]
    }
   ],
   "source": [
    "from sklearn import metrics\n",
    "print('MAE:', metrics.mean_absolute_error(y_test, predictions))\n",
    "print('MSE:', metrics.mean_squared_error(y_test, predictions))\n",
    "print('RMSE:', np.sqrt(metrics.mean_squared_error(y_test, predictions)))"
   ]
  },
  {
   "cell_type": "markdown",
   "id": "a6f29bd2",
   "metadata": {},
   "source": [
    "# Support Vector Machine (Regression)"
   ]
  },
  {
   "cell_type": "code",
   "execution_count": 458,
   "id": "eb29e9ff",
   "metadata": {},
   "outputs": [],
   "source": [
    "#Importing SVM model\n",
    "from sklearn import svm\n",
    "\n",
    "#Creating a svr Regressor\n",
    "regressor = svm.SVR()\n",
    "\n",
    "#Train the model using the training sets\n",
    "regressor.fit(X_train, y_train)\n",
    "\n",
    "#Predict the response for test dataset\n",
    "y_pred = regressor.predict(X_test)"
   ]
  },
  {
   "cell_type": "code",
   "execution_count": 459,
   "id": "03c1424d",
   "metadata": {},
   "outputs": [],
   "source": [
    "y_pred = regressor.predict(X_test) # prediciting y"
   ]
  },
  {
   "cell_type": "code",
   "execution_count": 460,
   "id": "a4bab6fd",
   "metadata": {},
   "outputs": [
    {
     "name": "stdout",
     "output_type": "stream",
     "text": [
      "MAE: 8068.810286481138\n",
      "MSE: 151630880.55442908\n",
      "RMSE: 12313.849136416651\n"
     ]
    }
   ],
   "source": [
    "# Calculating error\n",
    "print('MAE:', metrics.mean_absolute_error(y_test, y_pred))\n",
    "print('MSE:', metrics.mean_squared_error(y_test, y_pred))\n",
    "print('RMSE:', np.sqrt(metrics.mean_squared_error(y_test, y_pred)))"
   ]
  },
  {
   "cell_type": "code",
   "execution_count": 461,
   "id": "99d009c1",
   "metadata": {},
   "outputs": [
    {
     "name": "stdout",
     "output_type": "stream",
     "text": [
      "Fitting 10 folds for each of 60 candidates, totalling 600 fits\n"
     ]
    },
    {
     "data": {
      "text/plain": [
       "GridSearchCV(cv=10, estimator=SVR(), n_jobs=-1,\n",
       "             param_grid={'C': [0.001, 0.01, 0.1, 1, 10, 100],\n",
       "                         'gamma': [0.001, 0.01, 0.1, 1, 'scale'],\n",
       "                         'kernel': ['rbf', 'sigmoid']},\n",
       "             verbose=4)"
      ]
     },
     "execution_count": 461,
     "metadata": {},
     "output_type": "execute_result"
    }
   ],
   "source": [
    "\n",
    "parameters =  { 'kernel' : ['rbf', 'sigmoid'],\n",
    "                 'gamma' : [0.001, 0.01, 0.1, 1, 'scale'],\n",
    "                 'C': [0.001, 0.01, 0.1, 1, 10, 100] }\n",
    "svr_grid = GridSearchCV(estimator=regressor, param_grid=parameters, cv=10, verbose=4, n_jobs=-1,refit = True)\n",
    "svr_grid.fit(X_train, y_train.ravel())"
   ]
  },
  {
   "cell_type": "code",
   "execution_count": 462,
   "id": "49e36748",
   "metadata": {},
   "outputs": [
    {
     "name": "stdout",
     "output_type": "stream",
     "text": [
      "{'C': 100, 'gamma': 'scale', 'kernel': 'sigmoid'}\n",
      "SVR(C=100, kernel='sigmoid')\n"
     ]
    }
   ],
   "source": [
    "# print best parameter after tuning\n",
    "print(svr_grid.best_params_)\n",
    "  \n",
    "# print how our model looks after hyper-parameter tuning\n",
    "print(svr_grid.best_estimator_)"
   ]
  },
  {
   "cell_type": "code",
   "execution_count": 463,
   "id": "ee89a6b6",
   "metadata": {},
   "outputs": [],
   "source": [
    "#Creating a svr Regressor\n",
    "regressor = svm.SVR(C=100, kernel='sigmoid')\n",
    "\n",
    "#Train the model using the training sets\n",
    "regressor.fit(X_train, y_train)\n",
    "\n",
    "#Predict the response for test dataset\n",
    "y_pred = regressor.predict(X_test)"
   ]
  },
  {
   "cell_type": "code",
   "execution_count": 464,
   "id": "6688188c",
   "metadata": {},
   "outputs": [
    {
     "name": "stdout",
     "output_type": "stream",
     "text": [
      "MAE: 4128.4738409457905\n",
      "MSE: 74501088.37925388\n",
      "RMSE: 8631.401298703118\n"
     ]
    }
   ],
   "source": [
    "# Calculating error\n",
    "print('MAE:', metrics.mean_absolute_error(y_test, y_pred))\n",
    "print('MSE:', metrics.mean_squared_error(y_test, y_pred))\n",
    "print('RMSE:', np.sqrt(metrics.mean_squared_error(y_test, y_pred)))"
   ]
  },
  {
   "cell_type": "markdown",
   "id": "3ae7f640",
   "metadata": {},
   "source": [
    "# Random Forest Regressor"
   ]
  },
  {
   "cell_type": "code",
   "execution_count": 465,
   "id": "6e7c760b",
   "metadata": {},
   "outputs": [
    {
     "data": {
      "text/plain": [
       "RandomForestRegressor()"
      ]
     },
     "execution_count": 465,
     "metadata": {},
     "output_type": "execute_result"
    }
   ],
   "source": [
    "# Importing library\n",
    "from sklearn.ensemble import RandomForestRegressor\n",
    "  \n",
    " # create regressor object\n",
    "regressor_rf = RandomForestRegressor()\n",
    "  \n",
    "# fit the regressor with x and y data\n",
    "regressor_rf.fit(X_train, y_train) "
   ]
  },
  {
   "cell_type": "code",
   "execution_count": 466,
   "id": "054fba2a",
   "metadata": {},
   "outputs": [],
   "source": [
    "# performing prediction\n",
    "y_pred = regressor_rf.predict(X_test)"
   ]
  },
  {
   "cell_type": "code",
   "execution_count": 467,
   "id": "737106cd",
   "metadata": {},
   "outputs": [
    {
     "name": "stdout",
     "output_type": "stream",
     "text": [
      "MAE: 2958.8115992679486\n",
      "MSE: 26547179.15245366\n",
      "RMSE: 5152.395477101273\n"
     ]
    }
   ],
   "source": [
    "# calculating error\n",
    "print('MAE:', metrics.mean_absolute_error(y_test, y_pred))\n",
    "print('MSE:', metrics.mean_squared_error(y_test, y_pred))\n",
    "print('RMSE:', np.sqrt(metrics.mean_squared_error(y_test, y_pred)))"
   ]
  },
  {
   "cell_type": "code",
   "execution_count": 468,
   "id": "45bf6e6d",
   "metadata": {},
   "outputs": [],
   "source": [
    "parameters = { 'n_estimators':[600,1000,1200],\n",
    "             'max_features': [\"auto\"],\n",
    "             'max_depth':[40,50,60],\n",
    "             'min_samples_split': [3,5,7,9],\n",
    "             'min_samples_leaf': [5,7,10,12],\n",
    "             'criterion': ['squared_error']}\n",
    "reg_rf_gscv = GridSearchCV(estimator=regressor_rf, param_grid=parameters, cv=10, n_jobs=-1)\n",
    "reg_rf_gscv = reg_rf_gscv.fit(X_train, y_train.ravel())"
   ]
  },
  {
   "cell_type": "code",
   "execution_count": 469,
   "id": "e7f6e8cc",
   "metadata": {},
   "outputs": [
    {
     "name": "stdout",
     "output_type": "stream",
     "text": [
      "{'criterion': 'squared_error', 'max_depth': 40, 'max_features': 'auto', 'min_samples_leaf': 10, 'min_samples_split': 7, 'n_estimators': 600}\n",
      "RandomForestRegressor(max_depth=40, min_samples_leaf=10, min_samples_split=7,\n",
      "                      n_estimators=600)\n"
     ]
    }
   ],
   "source": [
    "# print best parameter after tuning\n",
    "print(reg_rf_gscv.best_params_)\n",
    "  \n",
    "# print how our model looks after hyper-parameter tuning\n",
    "print(reg_rf_gscv.best_estimator_)"
   ]
  },
  {
   "cell_type": "code",
   "execution_count": 470,
   "id": "415dcf70",
   "metadata": {},
   "outputs": [],
   "source": [
    " # create regressor object\n",
    "regressor_rf = RandomForestRegressor(max_depth=50, min_samples_leaf=12, min_samples_split=9,\n",
    "                      n_estimators=1200)\n",
    "  \n",
    "# fit the regressor with x and y data\n",
    "regressor_rf.fit(X_train, y_train) \n",
    "\n",
    "# performing prediction\n",
    "y_pred = regressor_rf.predict(X_test)"
   ]
  },
  {
   "cell_type": "code",
   "execution_count": 471,
   "id": "3b9b765c",
   "metadata": {},
   "outputs": [
    {
     "name": "stdout",
     "output_type": "stream",
     "text": [
      "MAE: 2553.901000436056\n",
      "MSE: 20403578.888027515\n",
      "RMSE: 4517.032088443419\n"
     ]
    }
   ],
   "source": [
    "# calculating error\n",
    "print('MAE:', metrics.mean_absolute_error(y_test, y_pred))\n",
    "print('MSE:', metrics.mean_squared_error(y_test, y_pred))\n",
    "print('RMSE:', np.sqrt(metrics.mean_squared_error(y_test, y_pred)))"
   ]
  },
  {
   "cell_type": "markdown",
   "id": "6a1ec93c",
   "metadata": {},
   "source": [
    "# XGBoost Regressor"
   ]
  },
  {
   "cell_type": "code",
   "execution_count": 472,
   "id": "7275cd78",
   "metadata": {},
   "outputs": [],
   "source": [
    "X = health_insurance_new.drop('health_insurance_price',axis = 1)\n",
    "y = health_insurance_new.health_insurance_price\n",
    "\n",
    "from sklearn.model_selection import train_test_split\n",
    "X_train, X_test, y_train, y_test = train_test_split(X,y,test_size=0.2, random_state=42)"
   ]
  },
  {
   "cell_type": "code",
   "execution_count": 473,
   "id": "abf7c22e",
   "metadata": {},
   "outputs": [],
   "source": [
    "# we will convert the dataset into an optimized data structure called Dmatrix that XGBoost supports\n",
    "data_dmatrix = xgb.DMatrix(data=X,label=y)"
   ]
  },
  {
   "cell_type": "code",
   "execution_count": 474,
   "id": "237fc707",
   "metadata": {},
   "outputs": [],
   "source": [
    "xg_reg = xgb.XGBRegressor(objective ='reg:squarederror', colsample_bytree = 0.3, learning_rate = 0.1,\n",
    "max_depth = 5, n_estimators = 10)"
   ]
  },
  {
   "cell_type": "code",
   "execution_count": 475,
   "id": "5bd89f8e",
   "metadata": {},
   "outputs": [],
   "source": [
    "#Fit the regressor to the training set and make predictions on the test set using the familiar .fit() and .predict() methods\n",
    "xg_reg.fit(X_train,y_train)\n",
    "y_pred = xg_reg.predict(X_test)"
   ]
  },
  {
   "cell_type": "code",
   "execution_count": 476,
   "id": "6f9e9946",
   "metadata": {},
   "outputs": [
    {
     "name": "stdout",
     "output_type": "stream",
     "text": [
      "MAE: 6410.945456049695\n",
      "MSE: 113453249.59413803\n",
      "RMSE: 10651.44354508524\n"
     ]
    }
   ],
   "source": [
    "# calculating error\n",
    "print('MAE:', metrics.mean_absolute_error(y_test, y_pred))\n",
    "print('MSE:', metrics.mean_squared_error(y_test, y_pred))\n",
    "print('RMSE:', np.sqrt(metrics.mean_squared_error(y_test, y_pred)))"
   ]
  },
  {
   "cell_type": "code",
   "execution_count": 477,
   "id": "b91544e7",
   "metadata": {},
   "outputs": [],
   "source": [
    "params = { 'max_depth': [3,6,10],\n",
    "           'learning_rate': [0.01, 0.05, 0.1],\n",
    "           'n_estimators': [100, 500, 1000],\n",
    "           'colsample_bytree': [0.3, 0.7]}\n",
    "xg_reg_gscv = GridSearchCV(estimator=xg_reg, param_grid=params, cv=10, n_jobs=-1)\n",
    "xg_reg_gscv = reg_rf_gscv.fit(X_train, y_train.ravel())"
   ]
  },
  {
   "cell_type": "code",
   "execution_count": 478,
   "id": "1963a2c2",
   "metadata": {},
   "outputs": [
    {
     "name": "stdout",
     "output_type": "stream",
     "text": [
      "{'criterion': 'squared_error', 'max_depth': 50, 'max_features': 'auto', 'min_samples_leaf': 12, 'min_samples_split': 7, 'n_estimators': 1000}\n",
      "RandomForestRegressor(max_depth=50, min_samples_leaf=12, min_samples_split=7,\n",
      "                      n_estimators=1000)\n"
     ]
    }
   ],
   "source": [
    "# print best parameter after tuning\n",
    "print(xg_reg_gscv.best_params_)\n",
    "  \n",
    "# print how our model looks after hyper-parameter tuning\n",
    "print(xg_reg_gscv.best_estimator_)"
   ]
  },
  {
   "cell_type": "code",
   "execution_count": 479,
   "id": "ba44994d",
   "metadata": {},
   "outputs": [
    {
     "name": "stdout",
     "output_type": "stream",
     "text": [
      "[01:02:12] WARNING: C:/buildkite-agent/builds/buildkite-windows-cpu-autoscaling-group-i-08de971ced8a8cdc6-1/xgboost/xgboost-ci-windows/src/learner.cc:767: \n",
      "Parameters: { \"min_samples_leaf\", \"min_samples_split\" } are not used.\n",
      "\n"
     ]
    }
   ],
   "source": [
    "xg_reg = xgb.XGBRegressor(max_depth=60, min_samples_leaf=12, min_samples_split=9,n_estimators=600)\n",
    "xg_reg.fit(X_train,y_train)\n",
    "y_pred = xg_reg.predict(X_test)"
   ]
  },
  {
   "cell_type": "code",
   "execution_count": 480,
   "id": "c89e342e",
   "metadata": {},
   "outputs": [
    {
     "name": "stdout",
     "output_type": "stream",
     "text": [
      "MAE: 3102.568953062735\n",
      "MSE: 32040534.240650468\n",
      "RMSE: 5660.435870200321\n"
     ]
    }
   ],
   "source": [
    "# calculating error\n",
    "print('MAE:', metrics.mean_absolute_error(y_test, y_pred))\n",
    "print('MSE:', metrics.mean_squared_error(y_test, y_pred))\n",
    "print('RMSE:', np.sqrt(metrics.mean_squared_error(y_test, y_pred)))"
   ]
  },
  {
   "cell_type": "markdown",
   "id": "544f82f6",
   "metadata": {},
   "source": [
    "# Conclusion"
   ]
  },
  {
   "cell_type": "markdown",
   "id": "444e15c7",
   "metadata": {},
   "source": [
    "We built 4 models of regression to check which model predicts better with less error.\n",
    "\n",
    "Error parameters considered were Mean Absolute Error, Mean Squarred Error, Root Mean Squared Error.\n",
    "\n",
    "Models :\n",
    "\n",
    "1. Linear Regression - RMSE: 5941.3031569331\n",
    "2. Support Vector Machine (Regression) - RMSE: 8631.401298703118\n",
    "3. Random Forest Regressor - RMSE: 4510.987261179289\n",
    "4. XGBoost Regressor - RMSE: 5660.435870200321\n",
    "\n",
    "From above it is clear that Random Forest Regressor - RandomForestRegressor(max_depth=50, min_samples_leaf=12, min_samples_split=9,n_estimators=1200) predicted better. \n"
   ]
  }
 ],
 "metadata": {
  "kernelspec": {
   "display_name": "Python 3 (ipykernel)",
   "language": "python",
   "name": "python3"
  },
  "language_info": {
   "codemirror_mode": {
    "name": "ipython",
    "version": 3
   },
   "file_extension": ".py",
   "mimetype": "text/x-python",
   "name": "python",
   "nbconvert_exporter": "python",
   "pygments_lexer": "ipython3",
   "version": "3.9.12"
  }
 },
 "nbformat": 4,
 "nbformat_minor": 5
}
